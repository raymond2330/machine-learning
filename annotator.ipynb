{
 "cells": [
  {
   "cell_type": "code",
   "execution_count": 4,
   "metadata": {},
   "outputs": [
    {
     "name": "stdout",
     "output_type": "stream",
     "text": [
      "Downloading https://github.com/ultralytics/assets/releases/download/v8.3.0/sam2_b.pt to 'sam2_b.pt'...\n"
     ]
    },
    {
     "name": "stderr",
     "output_type": "stream",
     "text": [
      "100%|██████████| 154M/154M [00:18<00:00, 8.76MB/s] \n"
     ]
    },
    {
     "name": "stdout",
     "output_type": "stream",
     "text": [
      "\n",
      "image 1/200 c:\\Users\\Raymond\\Desktop\\Machine Learning\\cat\\03BV9TORREGG.jpg: 448x640 1 Cat, 57.1ms\n",
      "image 2/200 c:\\Users\\Raymond\\Desktop\\Machine Learning\\cat\\08ZTY1C8VAQ2.jpg: 640x384 (no detections), 23.0ms\n",
      "image 3/200 c:\\Users\\Raymond\\Desktop\\Machine Learning\\cat\\0946738HWD1Y.jpg: 544x640 1 Cat, 18.6ms\n",
      "image 4/200 c:\\Users\\Raymond\\Desktop\\Machine Learning\\cat\\0D9R7LW8J6FA.jpg: 640x320 1 Cat, 17.1ms\n",
      "image 5/200 c:\\Users\\Raymond\\Desktop\\Machine Learning\\cat\\0IGJBLYJV5GU.jpg: 480x640 1 Cat, 17.1ms\n",
      "image 6/200 c:\\Users\\Raymond\\Desktop\\Machine Learning\\cat\\0IKQT7M78Y9S.jpg: 544x640 1 Cat, 18.0ms\n",
      "image 7/200 c:\\Users\\Raymond\\Desktop\\Machine Learning\\cat\\0IZF78EI46EK.jpg: 512x640 1 Cat, 17.0ms\n",
      "image 8/200 c:\\Users\\Raymond\\Desktop\\Machine Learning\\cat\\0LWQYV0YZ8GN.jpg: 352x640 1 Cat, 17.1ms\n",
      "image 9/200 c:\\Users\\Raymond\\Desktop\\Machine Learning\\cat\\0PBY56KK03WQ.jpg: 640x544 (no detections), 20.0ms\n",
      "image 10/200 c:\\Users\\Raymond\\Desktop\\Machine Learning\\cat\\0S21QWA4ON6U.jpg: 576x640 1 Cat, 1 Dog, 16.5ms\n",
      "image 11/200 c:\\Users\\Raymond\\Desktop\\Machine Learning\\cat\\17WFU1E78WER.jpg: 608x640 1 Cat, 20.1ms\n",
      "image 12/200 c:\\Users\\Raymond\\Desktop\\Machine Learning\\cat\\19K3CIR351EJ.jpg: 512x640 (no detections), 17.1ms\n",
      "image 13/200 c:\\Users\\Raymond\\Desktop\\Machine Learning\\cat\\1ALPORTPSMNE.jpg: 608x640 1 Cat, 19.0ms\n",
      "image 14/200 c:\\Users\\Raymond\\Desktop\\Machine Learning\\cat\\1B7R0MWMLXCD.jpg: 448x640 1 Cat, 16.0ms\n",
      "image 15/200 c:\\Users\\Raymond\\Desktop\\Machine Learning\\cat\\1IAW7MNERLIB.jpg: 480x640 (no detections), 27.6ms\n",
      "image 16/200 c:\\Users\\Raymond\\Desktop\\Machine Learning\\cat\\1RHK9NHZDF56.jpg: 480x640 1 Cat, 15.0ms\n",
      "image 17/200 c:\\Users\\Raymond\\Desktop\\Machine Learning\\cat\\1UMA92M2TBBS.jpg: 608x640 1 Cat, 19.2ms\n",
      "image 18/200 c:\\Users\\Raymond\\Desktop\\Machine Learning\\cat\\1VAB6AH0UUQ0.jpg: 480x640 1 Cat, 18.1ms\n",
      "image 19/200 c:\\Users\\Raymond\\Desktop\\Machine Learning\\cat\\224LIO1806WS.jpg: 640x640 1 Cat, 19.0ms\n",
      "image 20/200 c:\\Users\\Raymond\\Desktop\\Machine Learning\\cat\\251ZNDMDSA8Q.jpg: 416x640 1 Cat, 1 Dog, 17.1ms\n",
      "image 21/200 c:\\Users\\Raymond\\Desktop\\Machine Learning\\cat\\2ITRXJZY3GHD.jpg: 512x640 1 Cat, 17.7ms\n",
      "image 22/200 c:\\Users\\Raymond\\Desktop\\Machine Learning\\cat\\2ZQDG7DLVHEX.jpg: 352x640 2 Cats, 22.3ms\n",
      "image 23/200 c:\\Users\\Raymond\\Desktop\\Machine Learning\\cat\\3AOJ3Y9VG8EF.jpg: 640x352 1 Cat, 19.6ms\n",
      "image 24/200 c:\\Users\\Raymond\\Desktop\\Machine Learning\\cat\\3GIQZA5KPA71.jpg: 640x320 1 Cat, 19.1ms\n",
      "image 25/200 c:\\Users\\Raymond\\Desktop\\Machine Learning\\cat\\3L820YDOE31J.jpg: 640x384 1 Cat, 17.0ms\n",
      "image 26/200 c:\\Users\\Raymond\\Desktop\\Machine Learning\\cat\\3UIHCXAUTKQM.jpg: 640x576 1 Cat, 25.2ms\n",
      "image 27/200 c:\\Users\\Raymond\\Desktop\\Machine Learning\\cat\\45JQ0ZUUL83Y.jpg: 480x640 1 Cat, 24.2ms\n",
      "image 28/200 c:\\Users\\Raymond\\Desktop\\Machine Learning\\cat\\4EGUCORQVJ19.jpg: 416x640 1 Cat, 21.6ms\n",
      "image 29/200 c:\\Users\\Raymond\\Desktop\\Machine Learning\\cat\\4JMKC3RGWHNT.jpg: 640x320 (no detections), 18.0ms\n",
      "image 30/200 c:\\Users\\Raymond\\Desktop\\Machine Learning\\cat\\4NKKWGTJMFMN.jpg: 544x640 1 Cat, 18.6ms\n",
      "image 31/200 c:\\Users\\Raymond\\Desktop\\Machine Learning\\cat\\4QH074A973IA.jpg: 480x640 1 Cat, 21.3ms\n",
      "image 32/200 c:\\Users\\Raymond\\Desktop\\Machine Learning\\cat\\4X5NCR3OL1FU.jpg: 480x640 1 Cat, 17.1ms\n",
      "image 33/200 c:\\Users\\Raymond\\Desktop\\Machine Learning\\cat\\50PWWL81PWG3.jpg: 640x640 1 Cat, 25.1ms\n",
      "image 34/200 c:\\Users\\Raymond\\Desktop\\Machine Learning\\cat\\58WDFYNUOWES.jpg: 640x608 1 Cat, 17.5ms\n",
      "image 35/200 c:\\Users\\Raymond\\Desktop\\Machine Learning\\cat\\5EYKK1N74VBW.jpg: 576x640 (no detections), 18.0ms\n",
      "image 36/200 c:\\Users\\Raymond\\Desktop\\Machine Learning\\cat\\5G5ROXF6O2Q5.jpg: 640x384 (no detections), 17.1ms\n",
      "image 37/200 c:\\Users\\Raymond\\Desktop\\Machine Learning\\cat\\5NPU5FCJNKQ1.jpg: 640x640 1 Cat, 18.0ms\n",
      "image 38/200 c:\\Users\\Raymond\\Desktop\\Machine Learning\\cat\\5SBDWX3BULNH.jpg: 640x576 1 Cat, 15.5ms\n",
      "image 39/200 c:\\Users\\Raymond\\Desktop\\Machine Learning\\cat\\5Z1I9SWEC4VD.jpg: 640x544 1 Cat, 21.0ms\n",
      "image 40/200 c:\\Users\\Raymond\\Desktop\\Machine Learning\\cat\\6327H7PEXPOM.jpg: 576x640 1 Cat, 18.5ms\n",
      "image 41/200 c:\\Users\\Raymond\\Desktop\\Machine Learning\\cat\\653G13Y44K6H.jpg: 576x640 1 Dog, 18.7ms\n",
      "image 42/200 c:\\Users\\Raymond\\Desktop\\Machine Learning\\cat\\6JDX4W8JI1XT.jpg: 512x640 (no detections), 17.5ms\n",
      "image 43/200 c:\\Users\\Raymond\\Desktop\\Machine Learning\\cat\\6OE2K4RS6AGQ.jpg: 320x640 (no detections), 18.1ms\n",
      "image 44/200 c:\\Users\\Raymond\\Desktop\\Machine Learning\\cat\\6RHEGSB3B6JU.jpg: 640x544 1 Cat, 18.1ms\n",
      "image 45/200 c:\\Users\\Raymond\\Desktop\\Machine Learning\\cat\\6YU31MOPH304.jpg: 640x352 1 Cat, 16.7ms\n",
      "image 46/200 c:\\Users\\Raymond\\Desktop\\Machine Learning\\cat\\72OSGK8ER2CK.jpg: 640x384 (no detections), 16.5ms\n",
      "image 47/200 c:\\Users\\Raymond\\Desktop\\Machine Learning\\cat\\7L7Z2YZFNB65.jpg: 480x640 1 Cat, 31.6ms\n",
      "image 48/200 c:\\Users\\Raymond\\Desktop\\Machine Learning\\cat\\7LSFUID3UVWN.jpg: 416x640 (no detections), 19.7ms\n",
      "image 49/200 c:\\Users\\Raymond\\Desktop\\Machine Learning\\cat\\7M34HGTFJ8SX.jpg: 640x544 1 Dog, 33.9ms\n",
      "image 50/200 c:\\Users\\Raymond\\Desktop\\Machine Learning\\cat\\7SPJ8TZ7D850.jpg: 576x640 (no detections), 18.0ms\n",
      "image 51/200 c:\\Users\\Raymond\\Desktop\\Machine Learning\\cat\\82C28V9SAVCG.jpg: 640x512 1 Cat, 17.5ms\n",
      "image 52/200 c:\\Users\\Raymond\\Desktop\\Machine Learning\\cat\\85LEP6DURVWV.jpg: 480x640 1 Cat, 17.1ms\n",
      "image 53/200 c:\\Users\\Raymond\\Desktop\\Machine Learning\\cat\\88VCYH20DZVV.jpg: 640x608 1 Cat, 19.0ms\n",
      "image 54/200 c:\\Users\\Raymond\\Desktop\\Machine Learning\\cat\\8GME0FGE53KP.jpg: 544x640 1 Cat, 1 Dog, 18.5ms\n",
      "image 55/200 c:\\Users\\Raymond\\Desktop\\Machine Learning\\cat\\8HX01CO3N28D.jpg: 640x480 1 Cat, 19.0ms\n",
      "image 56/200 c:\\Users\\Raymond\\Desktop\\Machine Learning\\cat\\8JN086W25ZHU.jpg: 576x640 1 Cat, 17.1ms\n",
      "image 57/200 c:\\Users\\Raymond\\Desktop\\Machine Learning\\cat\\8MT497A09ZKY.jpg: 640x576 1 Cat, 17.7ms\n",
      "image 58/200 c:\\Users\\Raymond\\Desktop\\Machine Learning\\cat\\8QEZZK36IVJP.jpg: 640x544 1 Cat, 20.6ms\n",
      "image 59/200 c:\\Users\\Raymond\\Desktop\\Machine Learning\\cat\\8T9T2HI02G63.jpg: 608x640 2 Cats, 19.1ms\n",
      "image 60/200 c:\\Users\\Raymond\\Desktop\\Machine Learning\\cat\\8W5GCLDGWFUP.jpg: 640x416 1 Cat, 17.1ms\n",
      "image 61/200 c:\\Users\\Raymond\\Desktop\\Machine Learning\\cat\\902M8IA9S0IW.jpg: 640x512 (no detections), 22.0ms\n",
      "image 62/200 c:\\Users\\Raymond\\Desktop\\Machine Learning\\cat\\908MOJZJSYJK.jpg: 640x448 1 Cat, 17.0ms\n",
      "image 63/200 c:\\Users\\Raymond\\Desktop\\Machine Learning\\cat\\974QJQ6ECCWD.jpg: 640x288 1 Cat, 20.0ms\n",
      "image 64/200 c:\\Users\\Raymond\\Desktop\\Machine Learning\\cat\\99IXI7RMEEBD.jpg: 640x640 1 Cat, 1 Dog, 20.6ms\n",
      "image 65/200 c:\\Users\\Raymond\\Desktop\\Machine Learning\\cat\\9CZATJFLS47Q.jpg: 320x640 1 Cat, 20.0ms\n",
      "image 66/200 c:\\Users\\Raymond\\Desktop\\Machine Learning\\cat\\9E1I79BSHRJB.jpg: 544x640 1 Cat, 16.1ms\n",
      "image 67/200 c:\\Users\\Raymond\\Desktop\\Machine Learning\\cat\\9FC40YN05YGH.jpg: 512x640 2 Cats, 17.8ms\n",
      "image 68/200 c:\\Users\\Raymond\\Desktop\\Machine Learning\\cat\\9GQG4YQ2AHX0.jpg: 640x544 1 Cat, 19.9ms\n",
      "image 69/200 c:\\Users\\Raymond\\Desktop\\Machine Learning\\cat\\9HB34G75O0R9.jpg: 512x640 1 Cat, 19.9ms\n",
      "image 70/200 c:\\Users\\Raymond\\Desktop\\Machine Learning\\cat\\9HUTSY58EFJ3.jpg: 576x640 (no detections), 19.1ms\n",
      "image 71/200 c:\\Users\\Raymond\\Desktop\\Machine Learning\\cat\\A5OU4YEOLXON.jpg: 640x480 1 Cat, 17.0ms\n",
      "image 72/200 c:\\Users\\Raymond\\Desktop\\Machine Learning\\cat\\AIR2S9LTDJW7.jpg: 576x640 1 Cat, 17.2ms\n",
      "image 73/200 c:\\Users\\Raymond\\Desktop\\Machine Learning\\cat\\ALUP0Z5O1JEK.jpg: 608x640 1 Cat, 18.7ms\n",
      "image 74/200 c:\\Users\\Raymond\\Desktop\\Machine Learning\\cat\\ARC1UJRTJQ7W.jpg: 352x640 1 Cat, 19.6ms\n",
      "image 75/200 c:\\Users\\Raymond\\Desktop\\Machine Learning\\cat\\B6093IDMNYFA.jpg: 640x512 1 Cat, 23.1ms\n",
      "image 76/200 c:\\Users\\Raymond\\Desktop\\Machine Learning\\cat\\B68DGF1BHNXZ.jpg: 352x640 1 Cat, 20.1ms\n",
      "image 77/200 c:\\Users\\Raymond\\Desktop\\Machine Learning\\cat\\BAYUEQDLOF61.jpg: 640x608 (no detections), 20.6ms\n",
      "image 78/200 c:\\Users\\Raymond\\Desktop\\Machine Learning\\cat\\BFIV9YKJ0FEE.jpg: 512x640 1 Cat, 16.0ms\n",
      "image 79/200 c:\\Users\\Raymond\\Desktop\\Machine Learning\\cat\\BHNNFMJHUHET.jpg: 640x480 1 Cat, 18.0ms\n",
      "image 80/200 c:\\Users\\Raymond\\Desktop\\Machine Learning\\cat\\BWRFMYECO8O0.jpg: 544x640 1 Cat, 16.6ms\n",
      "image 81/200 c:\\Users\\Raymond\\Desktop\\Machine Learning\\cat\\CDFODX1R9D9Z.jpg: 576x640 1 Cat, 30.1ms\n",
      "image 82/200 c:\\Users\\Raymond\\Desktop\\Machine Learning\\cat\\CEWW7QLTWC1U.jpg: 640x576 1 Cat, 17.0ms\n",
      "image 83/200 c:\\Users\\Raymond\\Desktop\\Machine Learning\\cat\\CVN6CYTYPGRI.jpg: 640x640 1 Cat, 19.6ms\n",
      "image 84/200 c:\\Users\\Raymond\\Desktop\\Machine Learning\\cat\\D62XHF1AB7PM.jpg: 640x448 (no detections), 17.8ms\n",
      "image 85/200 c:\\Users\\Raymond\\Desktop\\Machine Learning\\cat\\D8II9QM0UO8O.jpg: 640x448 2 Cats, 17.1ms\n",
      "image 86/200 c:\\Users\\Raymond\\Desktop\\Machine Learning\\cat\\D991YBBVUVVK.jpg: 640x544 1 Cat, 19.0ms\n",
      "image 87/200 c:\\Users\\Raymond\\Desktop\\Machine Learning\\cat\\DCEZ1DR9YHOM.jpg: 640x544 1 Cat, 17.6ms\n",
      "image 88/200 c:\\Users\\Raymond\\Desktop\\Machine Learning\\cat\\DDODW91N8EMH.jpg: 608x640 1 Cat, 20.1ms\n",
      "image 89/200 c:\\Users\\Raymond\\Desktop\\Machine Learning\\cat\\DJU706CA6ZBF.jpg: 512x640 2 Cats, 23.1ms\n",
      "image 90/200 c:\\Users\\Raymond\\Desktop\\Machine Learning\\cat\\DKXLYOM4VYK1.jpg: 640x640 1 Cat, 18.9ms\n",
      "image 91/200 c:\\Users\\Raymond\\Desktop\\Machine Learning\\cat\\DZMRQ9J4BG82.jpg: 640x416 (no detections), 29.1ms\n",
      "image 92/200 c:\\Users\\Raymond\\Desktop\\Machine Learning\\cat\\EEUN0APKFBM2.jpg: 512x640 1 Cat, 20.8ms\n",
      "image 93/200 c:\\Users\\Raymond\\Desktop\\Machine Learning\\cat\\ENKHWRE283RS.jpg: 480x640 1 Cat, 18.0ms\n",
      "image 94/200 c:\\Users\\Raymond\\Desktop\\Machine Learning\\cat\\F4MRJHBCMHIO.jpg: 320x640 2 Cats, 21.1ms\n",
      "image 95/200 c:\\Users\\Raymond\\Desktop\\Machine Learning\\cat\\FHAXQCOQYHCS.jpg: 448x640 1 Cat, 16.5ms\n",
      "image 96/200 c:\\Users\\Raymond\\Desktop\\Machine Learning\\cat\\FLTTT9T34LGQ.jpg: 576x640 1 Cat, 23.8ms\n",
      "image 97/200 c:\\Users\\Raymond\\Desktop\\Machine Learning\\cat\\FN18FJOXHZW6.jpg: 640x544 1 Cat, 34.1ms\n",
      "image 98/200 c:\\Users\\Raymond\\Desktop\\Machine Learning\\cat\\FXGGVP58GERI.jpg: 384x640 1 Cat, 37.2ms\n",
      "image 99/200 c:\\Users\\Raymond\\Desktop\\Machine Learning\\cat\\GE7N0E2STERI.jpg: 640x640 1 Cat, 20.0ms\n",
      "image 100/200 c:\\Users\\Raymond\\Desktop\\Machine Learning\\cat\\GG99N461CGYM.jpg: 608x640 1 Dog, 20.1ms\n",
      "image 101/200 c:\\Users\\Raymond\\Desktop\\Machine Learning\\cat\\GKCE3YDCHTQS.jpg: 640x640 1 Cat, 30.5ms\n",
      "image 102/200 c:\\Users\\Raymond\\Desktop\\Machine Learning\\cat\\GQCYQNLY1JT7.jpg: 384x640 1 Cat, 17.2ms\n",
      "image 103/200 c:\\Users\\Raymond\\Desktop\\Machine Learning\\cat\\H2NNKID7VB01.jpg: 352x640 2 Cats, 17.1ms\n",
      "image 104/200 c:\\Users\\Raymond\\Desktop\\Machine Learning\\cat\\H3NLWCBTU76Y.jpg: 608x640 1 Cat, 20.0ms\n",
      "image 105/200 c:\\Users\\Raymond\\Desktop\\Machine Learning\\cat\\H4OW7MSLKBF7.jpg: 640x416 1 Cat, 30.2ms\n",
      "image 106/200 c:\\Users\\Raymond\\Desktop\\Machine Learning\\cat\\H8JE1797QCH3.jpg: 608x640 (no detections), 23.0ms\n",
      "image 107/200 c:\\Users\\Raymond\\Desktop\\Machine Learning\\cat\\HAH2A86JWZ7W.jpg: 640x288 1 Cat, 18.0ms\n",
      "image 108/200 c:\\Users\\Raymond\\Desktop\\Machine Learning\\cat\\HFK88KAR9AEV.jpg: 640x576 1 Cat, 19.5ms\n",
      "image 109/200 c:\\Users\\Raymond\\Desktop\\Machine Learning\\cat\\HKPNMOG6TAKA.jpg: 608x640 (no detections), 26.1ms\n",
      "image 110/200 c:\\Users\\Raymond\\Desktop\\Machine Learning\\cat\\I355DHYLDA97.jpg: 544x640 (no detections), 21.2ms\n",
      "image 111/200 c:\\Users\\Raymond\\Desktop\\Machine Learning\\cat\\I3H5BF26ZG9Z.jpg: 640x512 1 Cat, 44.9ms\n",
      "image 112/200 c:\\Users\\Raymond\\Desktop\\Machine Learning\\cat\\IJK8OXRUON74.jpg: 576x640 1 Cat, 18.0ms\n",
      "image 113/200 c:\\Users\\Raymond\\Desktop\\Machine Learning\\cat\\IWBXHYWL2XNH.jpg: 640x480 1 Cat, 19.1ms\n",
      "image 114/200 c:\\Users\\Raymond\\Desktop\\Machine Learning\\cat\\IX8U4510MDQZ.jpg: 640x576 1 Cat, 19.1ms\n",
      "image 115/200 c:\\Users\\Raymond\\Desktop\\Machine Learning\\cat\\IZ2ETVRR3224.jpg: 640x640 (no detections), 19.1ms\n",
      "image 116/200 c:\\Users\\Raymond\\Desktop\\Machine Learning\\cat\\J05WKNW0FU42.jpg: 640x512 1 Cat, 25.7ms\n",
      "image 117/200 c:\\Users\\Raymond\\Desktop\\Machine Learning\\cat\\J18ZAHINSUET.jpg: 608x640 1 Cat, 18.8ms\n",
      "image 118/200 c:\\Users\\Raymond\\Desktop\\Machine Learning\\cat\\J5WF3E7WJZ70.jpg: 448x640 1 Dog, 19.1ms\n",
      "image 119/200 c:\\Users\\Raymond\\Desktop\\Machine Learning\\cat\\JDV2I5COHHBI.jpg: 512x640 1 Cat, 29.1ms\n",
      "image 120/200 c:\\Users\\Raymond\\Desktop\\Machine Learning\\cat\\JWIQ7A1CF4DT.jpg: 544x640 1 Cat, 1 Dog, 17.6ms\n",
      "image 121/200 c:\\Users\\Raymond\\Desktop\\Machine Learning\\cat\\JXRU2CF4QC8B.jpg: 608x640 1 Cat, 20.0ms\n",
      "image 122/200 c:\\Users\\Raymond\\Desktop\\Machine Learning\\cat\\K7LKDWCCPJQ7.jpg: 640x544 1 Cat, 18.1ms\n",
      "image 123/200 c:\\Users\\Raymond\\Desktop\\Machine Learning\\cat\\KAUYWIWT38NR.jpg: 352x640 2 Cats, 16.5ms\n",
      "image 124/200 c:\\Users\\Raymond\\Desktop\\Machine Learning\\cat\\KB5RAPQLB3N5.jpg: 640x640 1 Cat, 21.0ms\n",
      "image 125/200 c:\\Users\\Raymond\\Desktop\\Machine Learning\\cat\\KMS1AUD46NRO.jpg: 448x640 1 Cat, 16.6ms\n",
      "image 126/200 c:\\Users\\Raymond\\Desktop\\Machine Learning\\cat\\KQZGQPN57WOO.jpg: 416x640 2 Cats, 18.2ms\n",
      "image 127/200 c:\\Users\\Raymond\\Desktop\\Machine Learning\\cat\\KW1WFEV8HBS0.jpg: 512x640 (no detections), 18.1ms\n",
      "image 128/200 c:\\Users\\Raymond\\Desktop\\Machine Learning\\cat\\L1UTYCESSOSY.jpg: 640x448 1 Cat, 18.0ms\n",
      "image 129/200 c:\\Users\\Raymond\\Desktop\\Machine Learning\\cat\\LDERIDAIX4ET.jpg: 448x640 2 Cats, 18.1ms\n",
      "image 130/200 c:\\Users\\Raymond\\Desktop\\Machine Learning\\cat\\LFQ7T973SNQJ.jpg: 640x640 1 Cat, 25.3ms\n",
      "image 131/200 c:\\Users\\Raymond\\Desktop\\Machine Learning\\cat\\LIIMBMIU6TPM.jpg: 512x640 1 Cat, 19.6ms\n",
      "image 132/200 c:\\Users\\Raymond\\Desktop\\Machine Learning\\cat\\LSNOUT9OG8BX.jpg: 640x480 1 Cat, 19.1ms\n",
      "image 133/200 c:\\Users\\Raymond\\Desktop\\Machine Learning\\cat\\LVJN2K1XIK5J.jpg: 544x640 1 Cat, 18.0ms\n",
      "image 134/200 c:\\Users\\Raymond\\Desktop\\Machine Learning\\cat\\LWE176L21LDT.jpg: 640x576 1 Cat, 19.0ms\n",
      "image 135/200 c:\\Users\\Raymond\\Desktop\\Machine Learning\\cat\\MB84T6ASE5HP.jpg: 640x512 1 Cat, 18.8ms\n",
      "image 136/200 c:\\Users\\Raymond\\Desktop\\Machine Learning\\cat\\MDOHT5MX0HMF.jpg: 352x640 1 Cat, 17.5ms\n",
      "image 137/200 c:\\Users\\Raymond\\Desktop\\Machine Learning\\cat\\MNWTN9B1Q9FN.jpg: 576x640 1 Cat, 19.0ms\n",
      "image 138/200 c:\\Users\\Raymond\\Desktop\\Machine Learning\\cat\\MWZ9BYMBYSUI.jpg: 608x640 1 Cat, 21.6ms\n",
      "image 139/200 c:\\Users\\Raymond\\Desktop\\Machine Learning\\cat\\NIA3A3099L4K.jpg: 448x640 1 Cat, 1 Dog, 23.9ms\n",
      "image 140/200 c:\\Users\\Raymond\\Desktop\\Machine Learning\\cat\\NMQVFHJ5WMLD.jpg: 640x512 1 Cat, 20.1ms\n",
      "image 141/200 c:\\Users\\Raymond\\Desktop\\Machine Learning\\cat\\O4DPGES7PQAT.jpg: 640x448 2 Cats, 17.0ms\n",
      "image 142/200 c:\\Users\\Raymond\\Desktop\\Machine Learning\\cat\\O8HJ15N0NE7J.jpg: 640x352 1 Cat, 1 Dog, 17.0ms\n",
      "image 143/200 c:\\Users\\Raymond\\Desktop\\Machine Learning\\cat\\OJP51D98IR6Q.jpg: 640x576 1 Cat, 23.6ms\n",
      "image 144/200 c:\\Users\\Raymond\\Desktop\\Machine Learning\\cat\\OTRS28I69SDT.jpg: 448x640 1 Cat, 16.1ms\n",
      "image 145/200 c:\\Users\\Raymond\\Desktop\\Machine Learning\\cat\\OZXXNIHTE1RK.jpg: 640x608 1 Cat, 19.4ms\n",
      "image 146/200 c:\\Users\\Raymond\\Desktop\\Machine Learning\\cat\\PL0134TFI8KX.jpg: 320x640 (no detections), 16.0ms\n",
      "image 147/200 c:\\Users\\Raymond\\Desktop\\Machine Learning\\cat\\PSMIEO5U5RDM.jpg: 576x640 1 Cat, 17.1ms\n",
      "image 148/200 c:\\Users\\Raymond\\Desktop\\Machine Learning\\cat\\PTJ0JL8JS51J.jpg: 576x640 (no detections), 17.0ms\n",
      "image 149/200 c:\\Users\\Raymond\\Desktop\\Machine Learning\\cat\\PX45O9EJAZRF.jpg: 640x512 2 Cats, 16.1ms\n",
      "image 150/200 c:\\Users\\Raymond\\Desktop\\Machine Learning\\cat\\Q8QBOGYOPYJN.jpg: 416x640 1 Cat, 18.0ms\n",
      "image 151/200 c:\\Users\\Raymond\\Desktop\\Machine Learning\\cat\\QS90WDQWA0U6.jpg: 640x608 2 Cats, 19.6ms\n",
      "image 152/200 c:\\Users\\Raymond\\Desktop\\Machine Learning\\cat\\QVNOTKDSQZUD.jpg: 448x640 1 Cat, 18.2ms\n",
      "image 153/200 c:\\Users\\Raymond\\Desktop\\Machine Learning\\cat\\RCB9YBPR1OP6.jpg: 512x640 1 Cat, 17.5ms\n",
      "image 154/200 c:\\Users\\Raymond\\Desktop\\Machine Learning\\cat\\RD00B7TJY6M8.jpg: 416x640 1 Dog, 16.1ms\n",
      "image 155/200 c:\\Users\\Raymond\\Desktop\\Machine Learning\\cat\\RE521SAIFTAU.jpg: 512x640 (no detections), 21.0ms\n",
      "image 156/200 c:\\Users\\Raymond\\Desktop\\Machine Learning\\cat\\RIC4VRRDMDGD.jpg: 352x640 1 Cat, 17.8ms\n",
      "image 157/200 c:\\Users\\Raymond\\Desktop\\Machine Learning\\cat\\RQ6RXC3DYPPI.jpg: 640x448 1 Cat, 17.7ms\n",
      "image 158/200 c:\\Users\\Raymond\\Desktop\\Machine Learning\\cat\\RQSCF3OCJUXY.jpg: 640x480 1 Cat, 18.0ms\n",
      "image 159/200 c:\\Users\\Raymond\\Desktop\\Machine Learning\\cat\\RSDVN13KSTSM.jpg: 640x512 1 Cat, 19.1ms\n",
      "image 160/200 c:\\Users\\Raymond\\Desktop\\Machine Learning\\cat\\RSUDH28KX3XV.jpg: 640x512 1 Cat, 18.0ms\n",
      "image 161/200 c:\\Users\\Raymond\\Desktop\\Machine Learning\\cat\\SA6K9PUMQC6M.jpg: 640x416 1 Cat, 17.0ms\n",
      "image 162/200 c:\\Users\\Raymond\\Desktop\\Machine Learning\\cat\\SM5L009WY3U1.jpg: 640x384 1 Cat, 16.1ms\n",
      "image 163/200 c:\\Users\\Raymond\\Desktop\\Machine Learning\\cat\\STUX02OGENP3.jpg: 512x640 1 Cat, 19.0ms\n",
      "image 164/200 c:\\Users\\Raymond\\Desktop\\Machine Learning\\cat\\SXTZTQTAWQOT.jpg: 640x448 1 Cat, 18.0ms\n",
      "image 165/200 c:\\Users\\Raymond\\Desktop\\Machine Learning\\cat\\SZD2XCDW12CK.jpg: 352x640 1 Cat, 20.5ms\n",
      "image 166/200 c:\\Users\\Raymond\\Desktop\\Machine Learning\\cat\\T4RQQHXWP3I7.jpg: 640x640 1 Cat, 22.0ms\n",
      "image 167/200 c:\\Users\\Raymond\\Desktop\\Machine Learning\\cat\\TG3UIJBFC165.jpg: 448x640 1 Cat, 16.1ms\n",
      "image 168/200 c:\\Users\\Raymond\\Desktop\\Machine Learning\\cat\\TJZEUIE393AT.jpg: 320x640 1 Cat, 16.0ms\n",
      "image 169/200 c:\\Users\\Raymond\\Desktop\\Machine Learning\\cat\\TVEH97PXDSZR.jpg: 640x480 1 Cat, 22.0ms\n",
      "image 170/200 c:\\Users\\Raymond\\Desktop\\Machine Learning\\cat\\U7L19NBH63B1.jpg: 608x640 1 Cat, 20.6ms\n",
      "image 171/200 c:\\Users\\Raymond\\Desktop\\Machine Learning\\cat\\V8QUOLDCKS0V.jpg: 640x480 1 Cat, 19.1ms\n",
      "image 172/200 c:\\Users\\Raymond\\Desktop\\Machine Learning\\cat\\V8TK9H2EMBSU.jpg: 640x480 1 Cat, 17.6ms\n",
      "image 173/200 c:\\Users\\Raymond\\Desktop\\Machine Learning\\cat\\VAV60L0RONXN.jpg: 544x640 1 Cat, 19.0ms\n",
      "image 174/200 c:\\Users\\Raymond\\Desktop\\Machine Learning\\cat\\VQYWXK54339X.jpg: 640x640 1 Cat, 22.0ms\n",
      "image 175/200 c:\\Users\\Raymond\\Desktop\\Machine Learning\\cat\\VTO4Z4I9OI1Y.jpg: 640x480 1 Cat, 19.0ms\n",
      "image 176/200 c:\\Users\\Raymond\\Desktop\\Machine Learning\\cat\\VZQQK170B8ZU.jpg: 640x416 1 Cat, 16.5ms\n",
      "image 177/200 c:\\Users\\Raymond\\Desktop\\Machine Learning\\cat\\W6HMTTHM4JOJ.jpg: 640x512 1 Cat, 19.1ms\n",
      "image 178/200 c:\\Users\\Raymond\\Desktop\\Machine Learning\\cat\\W745NS0OGF5Z.jpg: 640x384 1 Cat, 17.0ms\n",
      "image 179/200 c:\\Users\\Raymond\\Desktop\\Machine Learning\\cat\\WDNSWX8FV1EU.jpg: 640x448 1 Cat, 18.0ms\n",
      "image 180/200 c:\\Users\\Raymond\\Desktop\\Machine Learning\\cat\\WGVXIRY9YMVH.jpg: 576x640 1 Cat, 20.0ms\n",
      "image 181/200 c:\\Users\\Raymond\\Desktop\\Machine Learning\\cat\\WXS93DR043J8.jpg: 512x640 1 Cat, 18.0ms\n",
      "image 182/200 c:\\Users\\Raymond\\Desktop\\Machine Learning\\cat\\WY0BVUZO21RH.jpg: 448x640 1 Cat, 1 Dog, 18.0ms\n",
      "image 183/200 c:\\Users\\Raymond\\Desktop\\Machine Learning\\cat\\WZL5X6UD1ALW.jpg: 416x640 (no detections), 26.5ms\n",
      "image 184/200 c:\\Users\\Raymond\\Desktop\\Machine Learning\\cat\\WZW6UWZ4NZZM.jpg: 512x640 1 Cat, 16.5ms\n",
      "image 185/200 c:\\Users\\Raymond\\Desktop\\Machine Learning\\cat\\XB20Y7CI7IB2.jpg: 640x640 2 Cats, 19.1ms\n",
      "image 186/200 c:\\Users\\Raymond\\Desktop\\Machine Learning\\cat\\XC5UP14K9JUO.jpg: 640x384 1 Cat, 21.6ms\n",
      "image 187/200 c:\\Users\\Raymond\\Desktop\\Machine Learning\\cat\\XG00GCD5G8QO.jpg: 544x640 1 Cat, 1 Dog, 18.6ms\n",
      "image 188/200 c:\\Users\\Raymond\\Desktop\\Machine Learning\\cat\\XJQPSKIFC90Y.jpg: 640x608 1 Cat, 21.1ms\n",
      "image 189/200 c:\\Users\\Raymond\\Desktop\\Machine Learning\\cat\\XLUBJ0XT17M9.jpg: 480x640 1 Cat, 19.0ms\n",
      "image 190/200 c:\\Users\\Raymond\\Desktop\\Machine Learning\\cat\\XRDBSEO08102.jpg: 640x576 1 Cat, 19.6ms\n",
      "image 191/200 c:\\Users\\Raymond\\Desktop\\Machine Learning\\cat\\Y6TWVMU5HMPI.jpg: 512x640 1 Cat, 18.1ms\n",
      "image 192/200 c:\\Users\\Raymond\\Desktop\\Machine Learning\\cat\\Y8NO7BPPSGHY.jpg: 640x608 1 Cat, 21.9ms\n",
      "image 193/200 c:\\Users\\Raymond\\Desktop\\Machine Learning\\cat\\Y9Z7N5NYWRNZ.jpg: 608x640 1 Cat, 22.2ms\n",
      "image 194/200 c:\\Users\\Raymond\\Desktop\\Machine Learning\\cat\\YKKAD25SCKC0.jpg: 576x640 1 Cat, 19.0ms\n",
      "image 195/200 c:\\Users\\Raymond\\Desktop\\Machine Learning\\cat\\YQFAK8SG3R26.jpg: 480x640 1 Dog, 18.0ms\n",
      "image 196/200 c:\\Users\\Raymond\\Desktop\\Machine Learning\\cat\\Z71MK73K06DY.jpg: 640x512 1 Cat, 19.1ms\n",
      "image 197/200 c:\\Users\\Raymond\\Desktop\\Machine Learning\\cat\\Z8M12KS9XHRI.jpg: 512x640 1 Cat, 18.5ms\n",
      "image 198/200 c:\\Users\\Raymond\\Desktop\\Machine Learning\\cat\\ZGLXEFKMPRRU.jpg: 416x640 1 Cat, 17.9ms\n",
      "image 199/200 c:\\Users\\Raymond\\Desktop\\Machine Learning\\cat\\ZLG9FGDX1A21.jpg: 640x640 1 Cat, 20.1ms\n",
      "image 200/200 c:\\Users\\Raymond\\Desktop\\Machine Learning\\cat\\ZSJEHX4KC9IM.jpg: 640x544 1 Cat, 17.6ms\n",
      "Speed: 1.9ms preprocess, 19.9ms inference, 1.7ms postprocess per image at shape (1, 3, 640, 544)\n"
     ]
    }
   ],
   "source": [
    "from ultralytics.data.annotator import auto_annotate\n",
    "\n",
    "# Use your own trained model\n",
    "auto_annotate(data=\"cat\", det_model=\"runs/detect/train/weights/best.pt\", sam_model=\"sam2_b.pt\")\n"
   ]
  },
  {
   "cell_type": "code",
   "execution_count": null,
   "metadata": {},
   "outputs": [
    {
     "name": "stdout",
     "output_type": "stream",
     "text": [
      "\n",
      "image 1/84 c:\\Users\\Raymond\\Desktop\\Machine Learning\\newDog\\0BN9U590YTVA.jpg: 544x640 (no detections), 72.5ms\n",
      "image 2/84 c:\\Users\\Raymond\\Desktop\\Machine Learning\\newDog\\0WIX9FCYYX20.jpg: 640x352 1 Dog, 44.5ms\n",
      "image 3/84 c:\\Users\\Raymond\\Desktop\\Machine Learning\\newDog\\1H6HX9I5XE9V.jpg: 640x320 1 Dog, 15.0ms\n",
      "image 4/84 c:\\Users\\Raymond\\Desktop\\Machine Learning\\newDog\\1TFAA2JDFVU8.jpg: 640x448 (no detections), 17.0ms\n",
      "image 5/84 c:\\Users\\Raymond\\Desktop\\Machine Learning\\newDog\\1XZE12S3LZI0.jpg: 576x640 (no detections), 17.1ms\n",
      "image 6/84 c:\\Users\\Raymond\\Desktop\\Machine Learning\\newDog\\26OBCAMDDGFE.jpg: 480x640 (no detections), 14.0ms\n",
      "image 7/84 c:\\Users\\Raymond\\Desktop\\Machine Learning\\newDog\\2FB758W0SHXO.jpg: 640x416 1 Dog, 15.0ms\n",
      "image 8/84 c:\\Users\\Raymond\\Desktop\\Machine Learning\\newDog\\2LCJS6JJNW4J.jpg: 576x640 1 Cat, 18.0ms\n",
      "image 9/84 c:\\Users\\Raymond\\Desktop\\Machine Learning\\newDog\\3WP3M5SDCKCG.jpg: 576x640 (no detections), 15.5ms\n",
      "image 10/84 c:\\Users\\Raymond\\Desktop\\Machine Learning\\newDog\\499LYTO3L0TA.jpg: 640x480 (no detections), 15.0ms\n",
      "image 11/84 c:\\Users\\Raymond\\Desktop\\Machine Learning\\newDog\\4D9UM4KLLAWN.jpg: 480x640 1 Dog, 18.0ms\n",
      "image 12/84 c:\\Users\\Raymond\\Desktop\\Machine Learning\\newDog\\4FJA3ZIU90VV.jpg: 480x640 (no detections), 16.0ms\n",
      "image 13/84 c:\\Users\\Raymond\\Desktop\\Machine Learning\\newDog\\4M9ZRUGK9PH1.jpg: 640x480 (no detections), 16.5ms\n",
      "image 14/84 c:\\Users\\Raymond\\Desktop\\Machine Learning\\newDog\\54QUGQEL0VNA.jpg: 640x480 (no detections), 15.0ms\n",
      "image 15/84 c:\\Users\\Raymond\\Desktop\\Machine Learning\\newDog\\5LK2MXHPIZC9.jpg: 640x480 (no detections), 14.0ms\n",
      "image 16/84 c:\\Users\\Raymond\\Desktop\\Machine Learning\\newDog\\5XDQ13C06GSZ.jpg: 640x640 1 Cat, 16.0ms\n",
      "image 17/84 c:\\Users\\Raymond\\Desktop\\Machine Learning\\newDog\\6B3RG8WC4H7L.jpg: 640x512 (no detections), 17.0ms\n",
      "image 18/84 c:\\Users\\Raymond\\Desktop\\Machine Learning\\newDog\\6D1IGRIOQGQG.jpg: 640x320 (no detections), 16.0ms\n",
      "image 19/84 c:\\Users\\Raymond\\Desktop\\Machine Learning\\newDog\\6PSF5KS2QSZI.jpg: 480x640 (no detections), 15.0ms\n",
      "image 20/84 c:\\Users\\Raymond\\Desktop\\Machine Learning\\newDog\\6WY0FLTZCGO5.jpg: 512x640 (no detections), 15.0ms\n",
      "image 21/84 c:\\Users\\Raymond\\Desktop\\Machine Learning\\newDog\\6Z0E7BZT8ZF4.jpg: 640x576 1 Dog, 15.5ms\n",
      "image 22/84 c:\\Users\\Raymond\\Desktop\\Machine Learning\\newDog\\719KFU5LC832.jpg: 640x640 (no detections), 20.5ms\n",
      "image 23/84 c:\\Users\\Raymond\\Desktop\\Machine Learning\\newDog\\7W3K172JTOJ5.jpg: 640x352 (no detections), 15.0ms\n",
      "image 24/84 c:\\Users\\Raymond\\Desktop\\Machine Learning\\newDog\\8BYJ4V3E89SW.jpg: 480x640 1 Dog, 15.0ms\n",
      "image 25/84 c:\\Users\\Raymond\\Desktop\\Machine Learning\\newDog\\9777WGV1OJUF.jpg: 640x576 (no detections), 19.0ms\n",
      "image 26/84 c:\\Users\\Raymond\\Desktop\\Machine Learning\\newDog\\9I2NRBW2E3S8.jpg: 640x352 (no detections), 23.0ms\n",
      "image 27/84 c:\\Users\\Raymond\\Desktop\\Machine Learning\\newDog\\9PGD8GSU4BZO.jpg: 640x544 1 Dog, 16.0ms\n",
      "image 28/84 c:\\Users\\Raymond\\Desktop\\Machine Learning\\newDog\\A1QJX2PH64GJ.jpg: 640x384 (no detections), 15.0ms\n",
      "image 29/84 c:\\Users\\Raymond\\Desktop\\Machine Learning\\newDog\\A6P40PHZDISN.jpg: 544x640 (no detections), 18.5ms\n",
      "image 30/84 c:\\Users\\Raymond\\Desktop\\Machine Learning\\newDog\\A7BE4AH53SGX.jpg: 640x256 (no detections), 15.0ms\n",
      "image 31/84 c:\\Users\\Raymond\\Desktop\\Machine Learning\\newDog\\ACFHH0083DDK.jpg: 640x576 (no detections), 15.0ms\n",
      "image 32/84 c:\\Users\\Raymond\\Desktop\\Machine Learning\\newDog\\ACZSOJI2DW7W.jpg: 640x544 1 Dog, 15.0ms\n",
      "image 33/84 c:\\Users\\Raymond\\Desktop\\Machine Learning\\newDog\\AIF1KENUNNU6.jpg: 640x544 (no detections), 15.0ms\n",
      "image 34/84 c:\\Users\\Raymond\\Desktop\\Machine Learning\\newDog\\ALTGWEZI1Y2F.jpg: 480x640 1 Dog, 14.0ms\n",
      "image 35/84 c:\\Users\\Raymond\\Desktop\\Machine Learning\\newDog\\AVDESUK7BMJN.jpg: 640x480 1 Dog, 20.0ms\n",
      "image 36/84 c:\\Users\\Raymond\\Desktop\\Machine Learning\\newDog\\CK432O1C6NHR.jpg: 640x608 (no detections), 21.0ms\n",
      "image 37/84 c:\\Users\\Raymond\\Desktop\\Machine Learning\\newDog\\CMY64D2LB9UI.jpg: 640x256 (no detections), 14.0ms\n",
      "image 38/84 c:\\Users\\Raymond\\Desktop\\Machine Learning\\newDog\\CRNV4Q6PIRLZ.jpg: 640x448 1 Dog, 14.0ms\n",
      "image 39/84 c:\\Users\\Raymond\\Desktop\\Machine Learning\\newDog\\CUHC2P7EITAG.jpg: 512x640 (no detections), 16.5ms\n",
      "image 40/84 c:\\Users\\Raymond\\Desktop\\Machine Learning\\newDog\\DDO9BJSNCEBB.jpg: 640x416 (no detections), 27.0ms\n",
      "image 41/84 c:\\Users\\Raymond\\Desktop\\Machine Learning\\newDog\\DSHD73OMRRFZ.jpg: 640x256 (no detections), 16.0ms\n",
      "image 42/84 c:\\Users\\Raymond\\Desktop\\Machine Learning\\newDog\\DUDIAQP4XAGM.jpg: 576x640 (no detections), 28.5ms\n",
      "image 43/84 c:\\Users\\Raymond\\Desktop\\Machine Learning\\newDog\\EGJT42114A7Z.jpg: 640x448 (no detections), 16.0ms\n",
      "image 44/84 c:\\Users\\Raymond\\Desktop\\Machine Learning\\newDog\\EV9YVSCQKPMY.jpg: 640x608 (no detections), 16.0ms\n",
      "image 45/84 c:\\Users\\Raymond\\Desktop\\Machine Learning\\newDog\\FDZS0COXRSGQ.jpg: 512x640 (no detections), 15.0ms\n",
      "image 46/84 c:\\Users\\Raymond\\Desktop\\Machine Learning\\newDog\\FU0DJ3Y7PFNP.jpg: 448x640 (no detections), 15.0ms\n",
      "image 47/84 c:\\Users\\Raymond\\Desktop\\Machine Learning\\newDog\\FU0GOJOWXHN4.jpg: 512x640 (no detections), 15.0ms\n",
      "image 48/84 c:\\Users\\Raymond\\Desktop\\Machine Learning\\newDog\\FZZ5YMBNC6JK.jpg: 640x576 (no detections), 16.0ms\n",
      "image 49/84 c:\\Users\\Raymond\\Desktop\\Machine Learning\\newDog\\G2GFTYR8H3H3.jpg: 640x544 (no detections), 15.5ms\n",
      "image 50/84 c:\\Users\\Raymond\\Desktop\\Machine Learning\\newDog\\G9IM8KIAJ5RR.jpg: 640x544 1 Dog, 14.0ms\n",
      "image 51/84 c:\\Users\\Raymond\\Desktop\\Machine Learning\\newDog\\GGZSXJ8E9UAV.jpg: 576x640 1 Dog, 18.0ms\n",
      "image 52/84 c:\\Users\\Raymond\\Desktop\\Machine Learning\\newDog\\GR2X0YB8RUGX.jpg: 512x640 (no detections), 22.0ms\n",
      "image 53/84 c:\\Users\\Raymond\\Desktop\\Machine Learning\\newDog\\GRI830G3YN1J.jpg: 576x640 (no detections), 17.2ms\n",
      "image 54/84 c:\\Users\\Raymond\\Desktop\\Machine Learning\\newDog\\GY7S6SIXMQ4U.jpg: 512x640 (no detections), 21.0ms\n",
      "image 55/84 c:\\Users\\Raymond\\Desktop\\Machine Learning\\newDog\\I9DE718JV3Q4.jpg: 640x608 (no detections), 18.0ms\n",
      "image 56/84 c:\\Users\\Raymond\\Desktop\\Machine Learning\\newDog\\IKDDRMO5QG6E.jpg: 640x576 (no detections), 15.0ms\n",
      "image 57/84 c:\\Users\\Raymond\\Desktop\\Machine Learning\\newDog\\JT3Z5J9VW9ZP.jpg: 640x384 (no detections), 15.0ms\n",
      "image 58/84 c:\\Users\\Raymond\\Desktop\\Machine Learning\\newDog\\JTY22M2WVDXK.jpg: 640x480 (no detections), 15.0ms\n",
      "image 59/84 c:\\Users\\Raymond\\Desktop\\Machine Learning\\newDog\\KWPFBX53AB3Y.jpg: 640x352 1 Dog, 15.0ms\n",
      "image 60/84 c:\\Users\\Raymond\\Desktop\\Machine Learning\\newDog\\LHKP3UO0EW42.jpg: 640x640 (no detections), 19.0ms\n",
      "image 61/84 c:\\Users\\Raymond\\Desktop\\Machine Learning\\newDog\\MSRXXG8KXKL6.jpg: 320x640 (no detections), 14.0ms\n",
      "image 62/84 c:\\Users\\Raymond\\Desktop\\Machine Learning\\newDog\\MTK2W44S6381.jpg: 640x608 1 Cat, 31.0ms\n",
      "image 63/84 c:\\Users\\Raymond\\Desktop\\Machine Learning\\newDog\\NUX322AXZA7M.jpg: 576x640 (no detections), 19.0ms\n",
      "image 64/84 c:\\Users\\Raymond\\Desktop\\Machine Learning\\newDog\\NZ98DEIU1SX1.jpg: 480x640 (no detections), 15.1ms\n",
      "image 65/84 c:\\Users\\Raymond\\Desktop\\Machine Learning\\newDog\\O1L4HT8PNJ4C.jpg: 640x320 1 Dog, 30.0ms\n",
      "image 66/84 c:\\Users\\Raymond\\Desktop\\Machine Learning\\newDog\\OPLDY33XG8BR.jpg: 608x640 1 Dog, 21.0ms\n",
      "image 67/84 c:\\Users\\Raymond\\Desktop\\Machine Learning\\newDog\\PFV83ZVNFSG9.jpg: 640x512 1 Dog, 19.0ms\n",
      "image 68/84 c:\\Users\\Raymond\\Desktop\\Machine Learning\\newDog\\QJS1XNV0FAD9.jpg: 640x384 (no detections), 14.0ms\n",
      "image 69/84 c:\\Users\\Raymond\\Desktop\\Machine Learning\\newDog\\QKIV719YXIOR.jpg: 640x256 (no detections), 16.0ms\n",
      "image 70/84 c:\\Users\\Raymond\\Desktop\\Machine Learning\\newDog\\UQFNPD6BWL6U.jpg: 640x576 (no detections), 14.0ms\n",
      "image 71/84 c:\\Users\\Raymond\\Desktop\\Machine Learning\\newDog\\UQWB8YK7E62E.jpg: 576x640 1 Dog, 15.0ms\n",
      "image 72/84 c:\\Users\\Raymond\\Desktop\\Machine Learning\\newDog\\W598C6WFXOZ0.jpg: 640x640 (no detections), 19.5ms\n",
      "image 73/84 c:\\Users\\Raymond\\Desktop\\Machine Learning\\newDog\\WA2W3MYAI8MJ.jpg: 640x512 (no detections), 15.0ms\n",
      "image 74/84 c:\\Users\\Raymond\\Desktop\\Machine Learning\\newDog\\WCRO0RSR86B9.jpg: 512x640 1 Dog, 19.0ms\n",
      "image 75/84 c:\\Users\\Raymond\\Desktop\\Machine Learning\\newDog\\WIAG2KBVR4YS.jpg: 640x544 (no detections), 19.0ms\n",
      "image 76/84 c:\\Users\\Raymond\\Desktop\\Machine Learning\\newDog\\WOR74JBXBO4P.jpg: 640x640 (no detections), 17.5ms\n",
      "image 77/84 c:\\Users\\Raymond\\Desktop\\Machine Learning\\newDog\\WRZ8Z3NBZILE.jpg: 640x384 (no detections), 17.0ms\n",
      "image 78/84 c:\\Users\\Raymond\\Desktop\\Machine Learning\\newDog\\XCFT53YYSP3Q.jpg: 640x544 (no detections), 15.0ms\n",
      "image 79/84 c:\\Users\\Raymond\\Desktop\\Machine Learning\\newDog\\XKIEDBAN7HWF.jpg: 640x640 (no detections), 18.0ms\n",
      "image 80/84 c:\\Users\\Raymond\\Desktop\\Machine Learning\\newDog\\Y6AK8M9097H8.jpg: 576x640 (no detections), 16.5ms\n",
      "image 81/84 c:\\Users\\Raymond\\Desktop\\Machine Learning\\newDog\\YA95GPH22KLV.jpg: 640x640 (no detections), 27.0ms\n",
      "image 82/84 c:\\Users\\Raymond\\Desktop\\Machine Learning\\newDog\\YEZPR3OKDCSB.jpg: 416x640 (no detections), 16.0ms\n",
      "image 83/84 c:\\Users\\Raymond\\Desktop\\Machine Learning\\newDog\\YHOHHEQ4QMOE.jpg: 640x480 (no detections), 15.5ms\n",
      "image 84/84 c:\\Users\\Raymond\\Desktop\\Machine Learning\\newDog\\ZKU26P1L9E8F.jpg: 640x352 1 Dog, 17.0ms\n",
      "Speed: 1.7ms preprocess, 18.2ms inference, 1.0ms postprocess per image at shape (1, 3, 640, 352)\n"
     ]
    }
   ],
   "source": [
    "from ultralytics.data.annotator import auto_annotate\n",
    "\n",
    "# Use your own trained model\n",
    "auto_annotate(data=\"dog\", det_model=\"runs/detect/train/weights/best.pt\", sam_model=\"sam2_b.pt\", conf=0.6)\n"
   ]
  },
  {
   "cell_type": "code",
   "execution_count": 22,
   "metadata": {},
   "outputs": [],
   "source": [
    "import os\n",
    "\n",
    "# Define the folder paths\n",
    "images_folder = 'cat'\n",
    "labels_folder = 'cat_auto_annotate_labels'\n",
    "\n",
    "# Get lists of image and label file names\n",
    "image_files = set(os.listdir(images_folder))\n",
    "label_files = set(os.listdir(labels_folder))\n",
    "\n",
    "# Extract base names without extensions\n",
    "image_bases = {os.path.splitext(file)[0] for file in image_files}\n",
    "label_bases = {os.path.splitext(file)[0] for file in label_files}\n",
    "\n",
    "# Find images without corresponding labels\n",
    "images_to_remove = image_bases - label_bases\n",
    "\n",
    "# Remove unmatched images\n",
    "for image in images_to_remove:\n",
    "    image_path = os.path.join(images_folder, f\"{image}.jpg\")  # Adjust extension as needed\n",
    "    if os.path.exists(image_path):\n",
    "        os.remove(image_path)\n",
    "        print(f\"Removed: {image_path}\")\n"
   ]
  },
  {
   "cell_type": "code",
   "execution_count": 24,
   "metadata": {},
   "outputs": [],
   "source": [
    "import os\n",
    "\n",
    "# Define the folder paths\n",
    "images_folder = 'dog'\n",
    "labels_folder = 'dog_auto_annotate_labels'\n",
    "\n",
    "# Get lists of image and label file names\n",
    "image_files = set(os.listdir(images_folder))\n",
    "label_files = set(os.listdir(labels_folder))\n",
    "\n",
    "# Extract base names without extensions\n",
    "image_bases = {os.path.splitext(file)[0] for file in image_files}\n",
    "label_bases = {os.path.splitext(file)[0] for file in label_files}\n",
    "\n",
    "# Find images without corresponding labels\n",
    "images_to_remove = image_bases - label_bases\n",
    "\n",
    "# Remove unmatched images\n",
    "for image in images_to_remove:\n",
    "    image_path = os.path.join(images_folder, f\"{image}.jpg\")  # Adjust extension as needed\n",
    "    if os.path.exists(image_path):\n",
    "        os.remove(image_path)\n",
    "        print(f\"Removed: {image_path}\")\n"
   ]
  },
  {
   "cell_type": "code",
   "execution_count": 25,
   "metadata": {},
   "outputs": [
    {
     "name": "stdout",
     "output_type": "stream",
     "text": [
      "Downloading https://github.com/ultralytics/assets/releases/download/v8.3.0/yolo11n-seg.pt to 'yolo11n-seg.pt'...\n"
     ]
    },
    {
     "name": "stderr",
     "output_type": "stream",
     "text": [
      "100%|██████████| 5.90M/5.90M [00:00<00:00, 44.6MB/s]\n"
     ]
    },
    {
     "name": "stdout",
     "output_type": "stream",
     "text": [
      "New https://pypi.org/project/ultralytics/8.3.40 available  Update with 'pip install -U ultralytics'\n",
      "Ultralytics 8.3.39  Python-3.10.11 torch-2.5.1+cu124 CUDA:0 (NVIDIA GeForce RTX 3060 Laptop GPU, 6144MiB)\n",
      "\u001b[34m\u001b[1mengine\\trainer: \u001b[0mtask=segment, mode=train, model=yolo11n-seg.pt, data=C:/Users/Raymond/Desktop/Machine Learning/segmentationDS/data.yaml, epochs=100, time=None, patience=100, batch=16, imgsz=640, save=True, save_period=-1, cache=False, device=None, workers=8, project=None, name=train, exist_ok=False, pretrained=True, optimizer=auto, verbose=True, seed=0, deterministic=True, single_cls=False, rect=False, cos_lr=False, close_mosaic=10, resume=False, amp=True, fraction=1.0, profile=False, freeze=None, multi_scale=False, overlap_mask=True, mask_ratio=4, dropout=0.0, val=True, split=val, save_json=False, save_hybrid=False, conf=None, iou=0.7, max_det=300, half=False, dnn=False, plots=True, source=None, vid_stride=1, stream_buffer=False, visualize=False, augment=False, agnostic_nms=False, classes=None, retina_masks=False, embed=None, show=False, save_frames=False, save_txt=False, save_conf=False, save_crop=False, show_labels=True, show_conf=True, show_boxes=True, line_width=None, format=torchscript, keras=False, optimize=False, int8=False, dynamic=False, simplify=True, opset=None, workspace=None, nms=False, lr0=0.01, lrf=0.01, momentum=0.937, weight_decay=0.0005, warmup_epochs=3.0, warmup_momentum=0.8, warmup_bias_lr=0.1, box=7.5, cls=0.5, dfl=1.5, pose=12.0, kobj=1.0, nbs=64, hsv_h=0.015, hsv_s=0.7, hsv_v=0.4, degrees=0.0, translate=0.1, scale=0.5, shear=0.0, perspective=0.0, flipud=0.0, fliplr=0.5, bgr=0.0, mosaic=1.0, mixup=0.0, copy_paste=0.0, copy_paste_mode=flip, auto_augment=randaugment, erasing=0.4, crop_fraction=1.0, cfg=None, tracker=botsort.yaml, save_dir=c:\\Users\\Raymond\\Desktop\\Machine Learning\\runs\\segment\\train\n",
      "Overriding model.yaml nc=80 with nc=2\n",
      "\n",
      "                   from  n    params  module                                       arguments                     \n",
      "  0                  -1  1       464  ultralytics.nn.modules.conv.Conv             [3, 16, 3, 2]                 \n",
      "  1                  -1  1      4672  ultralytics.nn.modules.conv.Conv             [16, 32, 3, 2]                \n",
      "  2                  -1  1      6640  ultralytics.nn.modules.block.C3k2            [32, 64, 1, False, 0.25]      \n",
      "  3                  -1  1     36992  ultralytics.nn.modules.conv.Conv             [64, 64, 3, 2]                \n",
      "  4                  -1  1     26080  ultralytics.nn.modules.block.C3k2            [64, 128, 1, False, 0.25]     \n",
      "  5                  -1  1    147712  ultralytics.nn.modules.conv.Conv             [128, 128, 3, 2]              \n",
      "  6                  -1  1     87040  ultralytics.nn.modules.block.C3k2            [128, 128, 1, True]           \n",
      "  7                  -1  1    295424  ultralytics.nn.modules.conv.Conv             [128, 256, 3, 2]              \n",
      "  8                  -1  1    346112  ultralytics.nn.modules.block.C3k2            [256, 256, 1, True]           \n",
      "  9                  -1  1    164608  ultralytics.nn.modules.block.SPPF            [256, 256, 5]                 \n",
      " 10                  -1  1    249728  ultralytics.nn.modules.block.C2PSA           [256, 256, 1]                 \n",
      " 11                  -1  1         0  torch.nn.modules.upsampling.Upsample         [None, 2, 'nearest']          \n",
      " 12             [-1, 6]  1         0  ultralytics.nn.modules.conv.Concat           [1]                           \n",
      " 13                  -1  1    111296  ultralytics.nn.modules.block.C3k2            [384, 128, 1, False]          \n",
      " 14                  -1  1         0  torch.nn.modules.upsampling.Upsample         [None, 2, 'nearest']          \n",
      " 15             [-1, 4]  1         0  ultralytics.nn.modules.conv.Concat           [1]                           \n",
      " 16                  -1  1     32096  ultralytics.nn.modules.block.C3k2            [256, 64, 1, False]           \n",
      " 17                  -1  1     36992  ultralytics.nn.modules.conv.Conv             [64, 64, 3, 2]                \n",
      " 18            [-1, 13]  1         0  ultralytics.nn.modules.conv.Concat           [1]                           \n",
      " 19                  -1  1     86720  ultralytics.nn.modules.block.C3k2            [192, 128, 1, False]          \n",
      " 20                  -1  1    147712  ultralytics.nn.modules.conv.Conv             [128, 128, 3, 2]              \n",
      " 21            [-1, 10]  1         0  ultralytics.nn.modules.conv.Concat           [1]                           \n",
      " 22                  -1  1    378880  ultralytics.nn.modules.block.C3k2            [384, 256, 1, True]           \n",
      " 23        [16, 19, 22]  1    683830  ultralytics.nn.modules.head.Segment          [2, 32, 64, [64, 128, 256]]   \n",
      "YOLO11n-seg summary: 355 layers, 2,842,998 parameters, 2,842,982 gradients, 10.4 GFLOPs\n",
      "\n",
      "Transferred 510/561 items from pretrained weights\n",
      "\u001b[34m\u001b[1mTensorBoard: \u001b[0mStart with 'tensorboard --logdir c:\\Users\\Raymond\\Desktop\\Machine Learning\\runs\\segment\\train', view at http://localhost:6006/\n",
      "Freezing layer 'model.23.dfl.conv.weight'\n",
      "\u001b[34m\u001b[1mAMP: \u001b[0mrunning Automatic Mixed Precision (AMP) checks...\n",
      "\u001b[34m\u001b[1mAMP: \u001b[0mchecks passed \n"
     ]
    },
    {
     "name": "stderr",
     "output_type": "stream",
     "text": [
      "\u001b[34m\u001b[1mtrain: \u001b[0mScanning C:\\Users\\Raymond\\Desktop\\Machine Learning\\segmentationDS\\train\\labels... 196 images, 0 backgrounds, 0 corrupt: 100%|██████████| 196/196 [00:00<00:00, 571.11it/s]"
     ]
    },
    {
     "name": "stdout",
     "output_type": "stream",
     "text": [
      "\u001b[34m\u001b[1mtrain: \u001b[0mNew cache created: C:\\Users\\Raymond\\Desktop\\Machine Learning\\segmentationDS\\train\\labels.cache\n"
     ]
    },
    {
     "name": "stderr",
     "output_type": "stream",
     "text": [
      "\n",
      "\u001b[34m\u001b[1mval: \u001b[0mScanning C:\\Users\\Raymond\\Desktop\\Machine Learning\\segmentationDS\\val\\labels... 26 images, 0 backgrounds, 0 corrupt: 100%|██████████| 26/26 [00:00<00:00, 684.13it/s]"
     ]
    },
    {
     "name": "stdout",
     "output_type": "stream",
     "text": [
      "\u001b[34m\u001b[1mval: \u001b[0mNew cache created: C:\\Users\\Raymond\\Desktop\\Machine Learning\\segmentationDS\\val\\labels.cache\n"
     ]
    },
    {
     "name": "stderr",
     "output_type": "stream",
     "text": [
      "\n"
     ]
    },
    {
     "name": "stdout",
     "output_type": "stream",
     "text": [
      "Plotting labels to c:\\Users\\Raymond\\Desktop\\Machine Learning\\runs\\segment\\train\\labels.jpg... \n",
      "\u001b[34m\u001b[1moptimizer:\u001b[0m 'optimizer=auto' found, ignoring 'lr0=0.01' and 'momentum=0.937' and determining best 'optimizer', 'lr0' and 'momentum' automatically... \n",
      "\u001b[34m\u001b[1moptimizer:\u001b[0m AdamW(lr=0.001667, momentum=0.9) with parameter groups 90 weight(decay=0.0), 101 weight(decay=0.0005), 100 bias(decay=0.0)\n",
      "\u001b[34m\u001b[1mTensorBoard: \u001b[0mmodel graph visualization added \n",
      "Image sizes 640 train, 640 val\n",
      "Using 8 dataloader workers\n",
      "Logging results to \u001b[1mc:\\Users\\Raymond\\Desktop\\Machine Learning\\runs\\segment\\train\u001b[0m\n",
      "Starting training for 100 epochs...\n",
      "\n",
      "      Epoch    GPU_mem   box_loss   seg_loss   cls_loss   dfl_loss  Instances       Size\n"
     ]
    },
    {
     "name": "stderr",
     "output_type": "stream",
     "text": [
      "      1/100      3.16G      1.054      4.689      2.864      1.574         12        640: 100%|██████████| 13/13 [00:05<00:00,  2.51it/s]\n",
      "                 Class     Images  Instances      Box(P          R      mAP50  mAP50-95)     Mask(P          R      mAP50  mAP50-95): 100%|██████████| 1/1 [00:00<00:00,  2.39it/s]"
     ]
    },
    {
     "name": "stdout",
     "output_type": "stream",
     "text": [
      "                   all         26         28     0.0036          1      0.542      0.398    0.00334      0.925      0.431      0.163\n"
     ]
    },
    {
     "name": "stderr",
     "output_type": "stream",
     "text": [
      "\n"
     ]
    },
    {
     "name": "stdout",
     "output_type": "stream",
     "text": [
      "\n",
      "      Epoch    GPU_mem   box_loss   seg_loss   cls_loss   dfl_loss  Instances       Size\n"
     ]
    },
    {
     "name": "stderr",
     "output_type": "stream",
     "text": [
      "      2/100      2.97G     0.8759      3.012      2.495       1.45         13        640: 100%|██████████| 13/13 [00:03<00:00,  3.99it/s]\n",
      "                 Class     Images  Instances      Box(P          R      mAP50  mAP50-95)     Mask(P          R      mAP50  mAP50-95): 100%|██████████| 1/1 [00:00<00:00,  3.26it/s]"
     ]
    },
    {
     "name": "stdout",
     "output_type": "stream",
     "text": [
      "                   all         26         28    0.00361          1      0.687      0.447    0.00322      0.896      0.573      0.288\n"
     ]
    },
    {
     "name": "stderr",
     "output_type": "stream",
     "text": [
      "\n"
     ]
    },
    {
     "name": "stdout",
     "output_type": "stream",
     "text": [
      "\n",
      "      Epoch    GPU_mem   box_loss   seg_loss   cls_loss   dfl_loss  Instances       Size\n"
     ]
    },
    {
     "name": "stderr",
     "output_type": "stream",
     "text": [
      "      3/100      2.99G      1.022      2.852      2.156      1.526         13        640: 100%|██████████| 13/13 [00:03<00:00,  4.05it/s]\n",
      "                 Class     Images  Instances      Box(P          R      mAP50  mAP50-95)     Mask(P          R      mAP50  mAP50-95): 100%|██████████| 1/1 [00:00<00:00,  3.04it/s]"
     ]
    },
    {
     "name": "stdout",
     "output_type": "stream",
     "text": [
      "                   all         26         28    0.00347      0.941      0.171     0.0566    0.00317      0.882      0.164     0.0554\n"
     ]
    },
    {
     "name": "stderr",
     "output_type": "stream",
     "text": [
      "\n"
     ]
    },
    {
     "name": "stdout",
     "output_type": "stream",
     "text": [
      "\n",
      "      Epoch    GPU_mem   box_loss   seg_loss   cls_loss   dfl_loss  Instances       Size\n"
     ]
    },
    {
     "name": "stderr",
     "output_type": "stream",
     "text": [
      "      4/100      2.98G      1.102      2.787      1.738      1.557         13        640: 100%|██████████| 13/13 [00:03<00:00,  4.18it/s]\n",
      "                 Class     Images  Instances      Box(P          R      mAP50  mAP50-95)     Mask(P          R      mAP50  mAP50-95): 100%|██████████| 1/1 [00:00<00:00,  3.11it/s]"
     ]
    },
    {
     "name": "stdout",
     "output_type": "stream",
     "text": [
      "                   all         26         28      0.549      0.147      0.356       0.24   0.000133     0.0294   9.01e-05   9.01e-06\n"
     ]
    },
    {
     "name": "stderr",
     "output_type": "stream",
     "text": [
      "\n"
     ]
    },
    {
     "name": "stdout",
     "output_type": "stream",
     "text": [
      "\n",
      "      Epoch    GPU_mem   box_loss   seg_loss   cls_loss   dfl_loss  Instances       Size\n"
     ]
    },
    {
     "name": "stderr",
     "output_type": "stream",
     "text": [
      "      5/100      2.98G      1.089      2.811      1.595      1.548         13        640: 100%|██████████| 13/13 [00:03<00:00,  4.13it/s]\n",
      "                 Class     Images  Instances      Box(P          R      mAP50  mAP50-95)     Mask(P          R      mAP50  mAP50-95): 100%|██████████| 1/1 [00:00<00:00,  3.12it/s]"
     ]
    },
    {
     "name": "stdout",
     "output_type": "stream",
     "text": [
      "                   all         26         28      0.785      0.118      0.471      0.246   0.000622      0.211     0.0404     0.0128\n"
     ]
    },
    {
     "name": "stderr",
     "output_type": "stream",
     "text": [
      "\n"
     ]
    },
    {
     "name": "stdout",
     "output_type": "stream",
     "text": [
      "\n",
      "      Epoch    GPU_mem   box_loss   seg_loss   cls_loss   dfl_loss  Instances       Size\n"
     ]
    },
    {
     "name": "stderr",
     "output_type": "stream",
     "text": [
      "      6/100      2.97G      1.177      2.835      1.555      1.609         12        640: 100%|██████████| 13/13 [00:03<00:00,  4.24it/s]\n",
      "                 Class     Images  Instances      Box(P          R      mAP50  mAP50-95)     Mask(P          R      mAP50  mAP50-95): 100%|██████████| 1/1 [00:00<00:00,  3.19it/s]"
     ]
    },
    {
     "name": "stdout",
     "output_type": "stream",
     "text": [
      "                   all         26         28      0.648      0.401      0.544       0.22    0.00266     0.0294   0.000924   9.24e-05\n"
     ]
    },
    {
     "name": "stderr",
     "output_type": "stream",
     "text": [
      "\n"
     ]
    },
    {
     "name": "stdout",
     "output_type": "stream",
     "text": [
      "\n",
      "      Epoch    GPU_mem   box_loss   seg_loss   cls_loss   dfl_loss  Instances       Size\n"
     ]
    },
    {
     "name": "stderr",
     "output_type": "stream",
     "text": [
      "      7/100      2.97G      1.111      2.817      1.488      1.545         13        640: 100%|██████████| 13/13 [00:03<00:00,  4.30it/s]\n",
      "                 Class     Images  Instances      Box(P          R      mAP50  mAP50-95)     Mask(P          R      mAP50  mAP50-95): 100%|██████████| 1/1 [00:00<00:00,  3.34it/s]"
     ]
    },
    {
     "name": "stdout",
     "output_type": "stream",
     "text": [
      "                   all         26         28      0.702      0.596       0.72      0.375      0.276      0.318      0.133     0.0404\n"
     ]
    },
    {
     "name": "stderr",
     "output_type": "stream",
     "text": [
      "\n"
     ]
    },
    {
     "name": "stdout",
     "output_type": "stream",
     "text": [
      "\n",
      "      Epoch    GPU_mem   box_loss   seg_loss   cls_loss   dfl_loss  Instances       Size\n"
     ]
    },
    {
     "name": "stderr",
     "output_type": "stream",
     "text": [
      "      8/100      2.99G      1.013      2.542      1.391      1.473         14        640: 100%|██████████| 13/13 [00:03<00:00,  4.25it/s]\n",
      "                 Class     Images  Instances      Box(P          R      mAP50  mAP50-95)     Mask(P          R      mAP50  mAP50-95): 100%|██████████| 1/1 [00:00<00:00,  3.37it/s]"
     ]
    },
    {
     "name": "stdout",
     "output_type": "stream",
     "text": [
      "                   all         26         28      0.407      0.433      0.382      0.115      0.367      0.374        0.3     0.0708\n"
     ]
    },
    {
     "name": "stderr",
     "output_type": "stream",
     "text": [
      "\n"
     ]
    },
    {
     "name": "stdout",
     "output_type": "stream",
     "text": [
      "\n",
      "      Epoch    GPU_mem   box_loss   seg_loss   cls_loss   dfl_loss  Instances       Size\n"
     ]
    },
    {
     "name": "stderr",
     "output_type": "stream",
     "text": [
      "      9/100      2.94G      1.091      2.868      1.369      1.532         17        640: 100%|██████████| 13/13 [00:02<00:00,  4.33it/s]\n",
      "                 Class     Images  Instances      Box(P          R      mAP50  mAP50-95)     Mask(P          R      mAP50  mAP50-95): 100%|██████████| 1/1 [00:00<00:00,  3.33it/s]"
     ]
    },
    {
     "name": "stdout",
     "output_type": "stream",
     "text": [
      "                   all         26         28      0.759      0.569      0.697      0.377      0.579      0.512      0.544      0.271\n"
     ]
    },
    {
     "name": "stderr",
     "output_type": "stream",
     "text": [
      "\n"
     ]
    },
    {
     "name": "stdout",
     "output_type": "stream",
     "text": [
      "\n",
      "      Epoch    GPU_mem   box_loss   seg_loss   cls_loss   dfl_loss  Instances       Size\n"
     ]
    },
    {
     "name": "stderr",
     "output_type": "stream",
     "text": [
      "     10/100      2.99G      1.009      2.753      1.328      1.494         11        640: 100%|██████████| 13/13 [00:03<00:00,  4.28it/s]\n",
      "                 Class     Images  Instances      Box(P          R      mAP50  mAP50-95)     Mask(P          R      mAP50  mAP50-95): 100%|██████████| 1/1 [00:00<00:00,  3.12it/s]"
     ]
    },
    {
     "name": "stdout",
     "output_type": "stream",
     "text": [
      "                   all         26         28      0.501      0.623      0.627      0.369      0.462      0.594      0.555      0.229\n"
     ]
    },
    {
     "name": "stderr",
     "output_type": "stream",
     "text": [
      "\n"
     ]
    },
    {
     "name": "stdout",
     "output_type": "stream",
     "text": [
      "\n",
      "      Epoch    GPU_mem   box_loss   seg_loss   cls_loss   dfl_loss  Instances       Size\n"
     ]
    },
    {
     "name": "stderr",
     "output_type": "stream",
     "text": [
      "     11/100      2.97G      1.102       2.61       1.35      1.508         15        640: 100%|██████████| 13/13 [00:03<00:00,  4.26it/s]\n",
      "                 Class     Images  Instances      Box(P          R      mAP50  mAP50-95)     Mask(P          R      mAP50  mAP50-95): 100%|██████████| 1/1 [00:00<00:00,  3.23it/s]"
     ]
    },
    {
     "name": "stdout",
     "output_type": "stream",
     "text": [
      "                   all         26         28      0.452      0.484      0.342      0.138      0.452      0.484      0.336      0.123\n"
     ]
    },
    {
     "name": "stderr",
     "output_type": "stream",
     "text": [
      "\n"
     ]
    },
    {
     "name": "stdout",
     "output_type": "stream",
     "text": [
      "\n",
      "      Epoch    GPU_mem   box_loss   seg_loss   cls_loss   dfl_loss  Instances       Size\n"
     ]
    },
    {
     "name": "stderr",
     "output_type": "stream",
     "text": [
      "     12/100      2.97G      1.068      2.718       1.28       1.49         13        640: 100%|██████████| 13/13 [00:03<00:00,  4.13it/s]\n",
      "                 Class     Images  Instances      Box(P          R      mAP50  mAP50-95)     Mask(P          R      mAP50  mAP50-95): 100%|██████████| 1/1 [00:00<00:00,  3.45it/s]"
     ]
    },
    {
     "name": "stdout",
     "output_type": "stream",
     "text": [
      "                   all         26         28      0.229      0.313      0.211     0.0701      0.202      0.283      0.169      0.064\n"
     ]
    },
    {
     "name": "stderr",
     "output_type": "stream",
     "text": [
      "\n"
     ]
    },
    {
     "name": "stdout",
     "output_type": "stream",
     "text": [
      "\n",
      "      Epoch    GPU_mem   box_loss   seg_loss   cls_loss   dfl_loss  Instances       Size\n"
     ]
    },
    {
     "name": "stderr",
     "output_type": "stream",
     "text": [
      "     13/100      2.96G      1.045      2.645      1.245      1.504         16        640: 100%|██████████| 13/13 [00:03<00:00,  4.25it/s]\n",
      "                 Class     Images  Instances      Box(P          R      mAP50  mAP50-95)     Mask(P          R      mAP50  mAP50-95): 100%|██████████| 1/1 [00:00<00:00,  3.31it/s]"
     ]
    },
    {
     "name": "stdout",
     "output_type": "stream",
     "text": [
      "                   all         26         28      0.636      0.631      0.595      0.305      0.597       0.54      0.428      0.195\n"
     ]
    },
    {
     "name": "stderr",
     "output_type": "stream",
     "text": [
      "\n"
     ]
    },
    {
     "name": "stdout",
     "output_type": "stream",
     "text": [
      "\n",
      "      Epoch    GPU_mem   box_loss   seg_loss   cls_loss   dfl_loss  Instances       Size\n"
     ]
    },
    {
     "name": "stderr",
     "output_type": "stream",
     "text": [
      "     14/100      2.97G      1.097      2.688      1.309      1.523         10        640: 100%|██████████| 13/13 [00:03<00:00,  4.26it/s]\n",
      "                 Class     Images  Instances      Box(P          R      mAP50  mAP50-95)     Mask(P          R      mAP50  mAP50-95): 100%|██████████| 1/1 [00:00<00:00,  3.56it/s]"
     ]
    },
    {
     "name": "stdout",
     "output_type": "stream",
     "text": [
      "                   all         26         28      0.608       0.66       0.64       0.37        0.6      0.556       0.51      0.212\n"
     ]
    },
    {
     "name": "stderr",
     "output_type": "stream",
     "text": [
      "\n"
     ]
    },
    {
     "name": "stdout",
     "output_type": "stream",
     "text": [
      "\n",
      "      Epoch    GPU_mem   box_loss   seg_loss   cls_loss   dfl_loss  Instances       Size\n"
     ]
    },
    {
     "name": "stderr",
     "output_type": "stream",
     "text": [
      "     15/100      2.97G      1.047      2.575       1.28      1.514         17        640: 100%|██████████| 13/13 [00:03<00:00,  4.13it/s]\n",
      "                 Class     Images  Instances      Box(P          R      mAP50  mAP50-95)     Mask(P          R      mAP50  mAP50-95): 100%|██████████| 1/1 [00:00<00:00,  3.45it/s]"
     ]
    },
    {
     "name": "stdout",
     "output_type": "stream",
     "text": [
      "                   all         26         28      0.423      0.553      0.535      0.219      0.215      0.674      0.378      0.185\n"
     ]
    },
    {
     "name": "stderr",
     "output_type": "stream",
     "text": [
      "\n"
     ]
    },
    {
     "name": "stdout",
     "output_type": "stream",
     "text": [
      "\n",
      "      Epoch    GPU_mem   box_loss   seg_loss   cls_loss   dfl_loss  Instances       Size\n"
     ]
    },
    {
     "name": "stderr",
     "output_type": "stream",
     "text": [
      "     16/100      2.97G      1.101      2.777       1.25       1.53         14        640: 100%|██████████| 13/13 [00:03<00:00,  4.12it/s]\n",
      "                 Class     Images  Instances      Box(P          R      mAP50  mAP50-95)     Mask(P          R      mAP50  mAP50-95): 100%|██████████| 1/1 [00:00<00:00,  3.38it/s]"
     ]
    },
    {
     "name": "stdout",
     "output_type": "stream",
     "text": [
      "                   all         26         28      0.772      0.537      0.704      0.338      0.605      0.681      0.624      0.278\n"
     ]
    },
    {
     "name": "stderr",
     "output_type": "stream",
     "text": [
      "\n"
     ]
    },
    {
     "name": "stdout",
     "output_type": "stream",
     "text": [
      "\n",
      "      Epoch    GPU_mem   box_loss   seg_loss   cls_loss   dfl_loss  Instances       Size\n"
     ]
    },
    {
     "name": "stderr",
     "output_type": "stream",
     "text": [
      "     17/100      2.96G      1.068      2.631      1.177      1.526         12        640: 100%|██████████| 13/13 [00:03<00:00,  4.18it/s]\n",
      "                 Class     Images  Instances      Box(P          R      mAP50  mAP50-95)     Mask(P          R      mAP50  mAP50-95): 100%|██████████| 1/1 [00:00<00:00,  3.05it/s]"
     ]
    },
    {
     "name": "stdout",
     "output_type": "stream",
     "text": [
      "                   all         26         28      0.771      0.698      0.757      0.461      0.609      0.552        0.5      0.176\n"
     ]
    },
    {
     "name": "stderr",
     "output_type": "stream",
     "text": [
      "\n"
     ]
    },
    {
     "name": "stdout",
     "output_type": "stream",
     "text": [
      "\n",
      "      Epoch    GPU_mem   box_loss   seg_loss   cls_loss   dfl_loss  Instances       Size\n"
     ]
    },
    {
     "name": "stderr",
     "output_type": "stream",
     "text": [
      "     18/100      2.99G      1.025      2.568      1.154      1.467         16        640: 100%|██████████| 13/13 [00:03<00:00,  4.26it/s]\n",
      "                 Class     Images  Instances      Box(P          R      mAP50  mAP50-95)     Mask(P          R      mAP50  mAP50-95): 100%|██████████| 1/1 [00:00<00:00,  3.59it/s]"
     ]
    },
    {
     "name": "stdout",
     "output_type": "stream",
     "text": [
      "                   all         26         28      0.735      0.714      0.737       0.45      0.688      0.655      0.638      0.317\n"
     ]
    },
    {
     "name": "stderr",
     "output_type": "stream",
     "text": [
      "\n"
     ]
    },
    {
     "name": "stdout",
     "output_type": "stream",
     "text": [
      "\n",
      "      Epoch    GPU_mem   box_loss   seg_loss   cls_loss   dfl_loss  Instances       Size\n"
     ]
    },
    {
     "name": "stderr",
     "output_type": "stream",
     "text": [
      "     19/100      2.97G      1.003      2.565      1.154      1.473         12        640: 100%|██████████| 13/13 [00:03<00:00,  4.26it/s]\n",
      "                 Class     Images  Instances      Box(P          R      mAP50  mAP50-95)     Mask(P          R      mAP50  mAP50-95): 100%|██████████| 1/1 [00:00<00:00,  3.55it/s]"
     ]
    },
    {
     "name": "stdout",
     "output_type": "stream",
     "text": [
      "                   all         26         28      0.867       0.76      0.871      0.531      0.788      0.702      0.767      0.331\n"
     ]
    },
    {
     "name": "stderr",
     "output_type": "stream",
     "text": [
      "\n"
     ]
    },
    {
     "name": "stdout",
     "output_type": "stream",
     "text": [
      "\n",
      "      Epoch    GPU_mem   box_loss   seg_loss   cls_loss   dfl_loss  Instances       Size\n"
     ]
    },
    {
     "name": "stderr",
     "output_type": "stream",
     "text": [
      "     20/100      2.97G      1.009      2.549      1.116      1.462         11        640: 100%|██████████| 13/13 [00:03<00:00,  4.12it/s]\n",
      "                 Class     Images  Instances      Box(P          R      mAP50  mAP50-95)     Mask(P          R      mAP50  mAP50-95): 100%|██████████| 1/1 [00:00<00:00,  3.45it/s]"
     ]
    },
    {
     "name": "stdout",
     "output_type": "stream",
     "text": [
      "                   all         26         28      0.716      0.733      0.778      0.557      0.675      0.703      0.739      0.399\n"
     ]
    },
    {
     "name": "stderr",
     "output_type": "stream",
     "text": [
      "\n"
     ]
    },
    {
     "name": "stdout",
     "output_type": "stream",
     "text": [
      "\n",
      "      Epoch    GPU_mem   box_loss   seg_loss   cls_loss   dfl_loss  Instances       Size\n"
     ]
    },
    {
     "name": "stderr",
     "output_type": "stream",
     "text": [
      "     21/100      2.96G     0.9723      2.562        1.1      1.454         15        640: 100%|██████████| 13/13 [00:03<00:00,  4.24it/s]\n",
      "                 Class     Images  Instances      Box(P          R      mAP50  mAP50-95)     Mask(P          R      mAP50  mAP50-95): 100%|██████████| 1/1 [00:00<00:00,  3.39it/s]"
     ]
    },
    {
     "name": "stdout",
     "output_type": "stream",
     "text": [
      "                   all         26         28      0.769       0.74      0.681       0.48      0.602      0.625      0.494      0.208\n"
     ]
    },
    {
     "name": "stderr",
     "output_type": "stream",
     "text": [
      "\n"
     ]
    },
    {
     "name": "stdout",
     "output_type": "stream",
     "text": [
      "\n",
      "      Epoch    GPU_mem   box_loss   seg_loss   cls_loss   dfl_loss  Instances       Size\n"
     ]
    },
    {
     "name": "stderr",
     "output_type": "stream",
     "text": [
      "     22/100      2.97G      1.065      2.626      1.154      1.528          9        640: 100%|██████████| 13/13 [00:03<00:00,  4.22it/s]\n",
      "                 Class     Images  Instances      Box(P          R      mAP50  mAP50-95)     Mask(P          R      mAP50  mAP50-95): 100%|██████████| 1/1 [00:00<00:00,  3.22it/s]"
     ]
    },
    {
     "name": "stdout",
     "output_type": "stream",
     "text": [
      "                   all         26         28      0.803      0.687      0.748      0.473      0.688      0.599      0.626      0.291\n"
     ]
    },
    {
     "name": "stderr",
     "output_type": "stream",
     "text": [
      "\n"
     ]
    },
    {
     "name": "stdout",
     "output_type": "stream",
     "text": [
      "\n",
      "      Epoch    GPU_mem   box_loss   seg_loss   cls_loss   dfl_loss  Instances       Size\n"
     ]
    },
    {
     "name": "stderr",
     "output_type": "stream",
     "text": [
      "     23/100      2.97G     0.9958      2.546      1.069       1.46         14        640: 100%|██████████| 13/13 [00:03<00:00,  4.18it/s]\n",
      "                 Class     Images  Instances      Box(P          R      mAP50  mAP50-95)     Mask(P          R      mAP50  mAP50-95): 100%|██████████| 1/1 [00:00<00:00,  3.48it/s]"
     ]
    },
    {
     "name": "stdout",
     "output_type": "stream",
     "text": [
      "                   all         26         28      0.716      0.615      0.541      0.387      0.755       0.66       0.54      0.245\n"
     ]
    },
    {
     "name": "stderr",
     "output_type": "stream",
     "text": [
      "\n"
     ]
    },
    {
     "name": "stdout",
     "output_type": "stream",
     "text": [
      "\n",
      "      Epoch    GPU_mem   box_loss   seg_loss   cls_loss   dfl_loss  Instances       Size\n"
     ]
    },
    {
     "name": "stderr",
     "output_type": "stream",
     "text": [
      "     24/100      2.99G      0.992      2.437      1.064      1.465         14        640: 100%|██████████| 13/13 [00:03<00:00,  4.10it/s]\n",
      "                 Class     Images  Instances      Box(P          R      mAP50  mAP50-95)     Mask(P          R      mAP50  mAP50-95): 100%|██████████| 1/1 [00:00<00:00,  3.62it/s]"
     ]
    },
    {
     "name": "stdout",
     "output_type": "stream",
     "text": [
      "                   all         26         28      0.592      0.681      0.656      0.345      0.631      0.486      0.487      0.143\n"
     ]
    },
    {
     "name": "stderr",
     "output_type": "stream",
     "text": [
      "\n"
     ]
    },
    {
     "name": "stdout",
     "output_type": "stream",
     "text": [
      "\n",
      "      Epoch    GPU_mem   box_loss   seg_loss   cls_loss   dfl_loss  Instances       Size\n"
     ]
    },
    {
     "name": "stderr",
     "output_type": "stream",
     "text": [
      "     25/100      2.98G     0.9677      2.327      1.018      1.439         16        640: 100%|██████████| 13/13 [00:03<00:00,  4.29it/s]\n",
      "                 Class     Images  Instances      Box(P          R      mAP50  mAP50-95)     Mask(P          R      mAP50  mAP50-95): 100%|██████████| 1/1 [00:00<00:00,  3.56it/s]"
     ]
    },
    {
     "name": "stdout",
     "output_type": "stream",
     "text": [
      "                   all         26         28      0.727       0.76      0.782      0.391      0.525      0.553      0.482      0.178\n"
     ]
    },
    {
     "name": "stderr",
     "output_type": "stream",
     "text": [
      "\n"
     ]
    },
    {
     "name": "stdout",
     "output_type": "stream",
     "text": [
      "\n",
      "      Epoch    GPU_mem   box_loss   seg_loss   cls_loss   dfl_loss  Instances       Size\n"
     ]
    },
    {
     "name": "stderr",
     "output_type": "stream",
     "text": [
      "     26/100      2.99G     0.9392      2.276     0.9717      1.416         19        640: 100%|██████████| 13/13 [00:03<00:00,  4.18it/s]\n",
      "                 Class     Images  Instances      Box(P          R      mAP50  mAP50-95)     Mask(P          R      mAP50  mAP50-95): 100%|██████████| 1/1 [00:00<00:00,  3.45it/s]"
     ]
    },
    {
     "name": "stdout",
     "output_type": "stream",
     "text": [
      "                   all         26         28      0.759      0.873      0.858      0.598      0.866      0.762       0.76      0.363\n"
     ]
    },
    {
     "name": "stderr",
     "output_type": "stream",
     "text": [
      "\n"
     ]
    },
    {
     "name": "stdout",
     "output_type": "stream",
     "text": [
      "\n",
      "      Epoch    GPU_mem   box_loss   seg_loss   cls_loss   dfl_loss  Instances       Size\n"
     ]
    },
    {
     "name": "stderr",
     "output_type": "stream",
     "text": [
      "     27/100      2.97G     0.9585      2.514     0.9745      1.422         14        640: 100%|██████████| 13/13 [00:03<00:00,  3.88it/s]\n",
      "                 Class     Images  Instances      Box(P          R      mAP50  mAP50-95)     Mask(P          R      mAP50  mAP50-95): 100%|██████████| 1/1 [00:00<00:00,  2.66it/s]"
     ]
    },
    {
     "name": "stdout",
     "output_type": "stream",
     "text": [
      "                   all         26         28      0.958      0.757      0.913       0.63      0.695      0.786       0.76      0.412\n"
     ]
    },
    {
     "name": "stderr",
     "output_type": "stream",
     "text": [
      "\n"
     ]
    },
    {
     "name": "stdout",
     "output_type": "stream",
     "text": [
      "\n",
      "      Epoch    GPU_mem   box_loss   seg_loss   cls_loss   dfl_loss  Instances       Size\n"
     ]
    },
    {
     "name": "stderr",
     "output_type": "stream",
     "text": [
      "     28/100      2.97G     0.9961      2.311     0.9882      1.455         16        640: 100%|██████████| 13/13 [00:03<00:00,  3.82it/s]\n",
      "                 Class     Images  Instances      Box(P          R      mAP50  mAP50-95)     Mask(P          R      mAP50  mAP50-95): 100%|██████████| 1/1 [00:00<00:00,  3.03it/s]"
     ]
    },
    {
     "name": "stdout",
     "output_type": "stream",
     "text": [
      "                   all         26         28      0.596      0.761      0.757      0.479      0.711      0.627      0.696      0.375\n"
     ]
    },
    {
     "name": "stderr",
     "output_type": "stream",
     "text": [
      "\n"
     ]
    },
    {
     "name": "stdout",
     "output_type": "stream",
     "text": [
      "\n",
      "      Epoch    GPU_mem   box_loss   seg_loss   cls_loss   dfl_loss  Instances       Size\n"
     ]
    },
    {
     "name": "stderr",
     "output_type": "stream",
     "text": [
      "     29/100      2.96G     0.9277      2.287     0.9847      1.391         16        640: 100%|██████████| 13/13 [00:03<00:00,  4.15it/s]\n",
      "                 Class     Images  Instances      Box(P          R      mAP50  mAP50-95)     Mask(P          R      mAP50  mAP50-95): 100%|██████████| 1/1 [00:00<00:00,  3.42it/s]"
     ]
    },
    {
     "name": "stdout",
     "output_type": "stream",
     "text": [
      "                   all         26         28      0.753      0.719      0.739       0.46      0.721      0.674      0.614      0.308\n"
     ]
    },
    {
     "name": "stderr",
     "output_type": "stream",
     "text": [
      "\n"
     ]
    },
    {
     "name": "stdout",
     "output_type": "stream",
     "text": [
      "\n",
      "      Epoch    GPU_mem   box_loss   seg_loss   cls_loss   dfl_loss  Instances       Size\n"
     ]
    },
    {
     "name": "stderr",
     "output_type": "stream",
     "text": [
      "     30/100      2.99G     0.9318      2.296     0.9262      1.415         12        640: 100%|██████████| 13/13 [00:03<00:00,  4.18it/s]\n",
      "                 Class     Images  Instances      Box(P          R      mAP50  mAP50-95)     Mask(P          R      mAP50  mAP50-95): 100%|██████████| 1/1 [00:00<00:00,  3.50it/s]"
     ]
    },
    {
     "name": "stdout",
     "output_type": "stream",
     "text": [
      "                   all         26         28      0.754      0.671      0.761      0.521      0.694      0.654      0.693      0.376\n"
     ]
    },
    {
     "name": "stderr",
     "output_type": "stream",
     "text": [
      "\n"
     ]
    },
    {
     "name": "stdout",
     "output_type": "stream",
     "text": [
      "\n",
      "      Epoch    GPU_mem   box_loss   seg_loss   cls_loss   dfl_loss  Instances       Size\n"
     ]
    },
    {
     "name": "stderr",
     "output_type": "stream",
     "text": [
      "     31/100      2.99G     0.9512      2.237     0.9877      1.409         16        640: 100%|██████████| 13/13 [00:03<00:00,  4.14it/s]\n",
      "                 Class     Images  Instances      Box(P          R      mAP50  mAP50-95)     Mask(P          R      mAP50  mAP50-95): 100%|██████████| 1/1 [00:00<00:00,  3.34it/s]"
     ]
    },
    {
     "name": "stdout",
     "output_type": "stream",
     "text": [
      "                   all         26         28       0.83      0.745      0.773      0.524      0.734      0.688      0.673      0.302\n"
     ]
    },
    {
     "name": "stderr",
     "output_type": "stream",
     "text": [
      "\n"
     ]
    },
    {
     "name": "stdout",
     "output_type": "stream",
     "text": [
      "\n",
      "      Epoch    GPU_mem   box_loss   seg_loss   cls_loss   dfl_loss  Instances       Size\n"
     ]
    },
    {
     "name": "stderr",
     "output_type": "stream",
     "text": [
      "     32/100      2.98G     0.9117      2.151     0.9755       1.39         12        640: 100%|██████████| 13/13 [00:03<00:00,  3.99it/s]\n",
      "                 Class     Images  Instances      Box(P          R      mAP50  mAP50-95)     Mask(P          R      mAP50  mAP50-95): 100%|██████████| 1/1 [00:00<00:00,  3.44it/s]"
     ]
    },
    {
     "name": "stdout",
     "output_type": "stream",
     "text": [
      "                   all         26         28      0.774      0.837      0.839      0.616      0.678       0.74       0.71      0.461\n"
     ]
    },
    {
     "name": "stderr",
     "output_type": "stream",
     "text": [
      "\n"
     ]
    },
    {
     "name": "stdout",
     "output_type": "stream",
     "text": [
      "\n",
      "      Epoch    GPU_mem   box_loss   seg_loss   cls_loss   dfl_loss  Instances       Size\n"
     ]
    },
    {
     "name": "stderr",
     "output_type": "stream",
     "text": [
      "     33/100      2.98G     0.9247      2.046     0.9327       1.39          8        640: 100%|██████████| 13/13 [00:03<00:00,  4.13it/s]\n",
      "                 Class     Images  Instances      Box(P          R      mAP50  mAP50-95)     Mask(P          R      mAP50  mAP50-95): 100%|██████████| 1/1 [00:00<00:00,  3.63it/s]"
     ]
    },
    {
     "name": "stdout",
     "output_type": "stream",
     "text": [
      "                   all         26         28      0.869       0.85      0.853      0.609       0.77      0.725      0.697      0.363\n"
     ]
    },
    {
     "name": "stderr",
     "output_type": "stream",
     "text": [
      "\n"
     ]
    },
    {
     "name": "stdout",
     "output_type": "stream",
     "text": [
      "\n",
      "      Epoch    GPU_mem   box_loss   seg_loss   cls_loss   dfl_loss  Instances       Size\n"
     ]
    },
    {
     "name": "stderr",
     "output_type": "stream",
     "text": [
      "     34/100      2.99G     0.8969      2.115     0.9285      1.384         15        640: 100%|██████████| 13/13 [00:03<00:00,  4.16it/s]\n",
      "                 Class     Images  Instances      Box(P          R      mAP50  mAP50-95)     Mask(P          R      mAP50  mAP50-95): 100%|██████████| 1/1 [00:00<00:00,  3.64it/s]"
     ]
    },
    {
     "name": "stdout",
     "output_type": "stream",
     "text": [
      "                   all         26         28      0.712      0.804      0.772      0.474      0.614       0.56      0.512      0.285\n"
     ]
    },
    {
     "name": "stderr",
     "output_type": "stream",
     "text": [
      "\n"
     ]
    },
    {
     "name": "stdout",
     "output_type": "stream",
     "text": [
      "\n",
      "      Epoch    GPU_mem   box_loss   seg_loss   cls_loss   dfl_loss  Instances       Size\n"
     ]
    },
    {
     "name": "stderr",
     "output_type": "stream",
     "text": [
      "     35/100      2.97G     0.9234      2.123     0.9291      1.398         17        640: 100%|██████████| 13/13 [00:03<00:00,  4.23it/s]\n",
      "                 Class     Images  Instances      Box(P          R      mAP50  mAP50-95)     Mask(P          R      mAP50  mAP50-95): 100%|██████████| 1/1 [00:00<00:00,  3.51it/s]"
     ]
    },
    {
     "name": "stdout",
     "output_type": "stream",
     "text": [
      "                   all         26         28      0.671      0.717      0.682       0.48      0.666      0.467      0.445      0.207\n"
     ]
    },
    {
     "name": "stderr",
     "output_type": "stream",
     "text": [
      "\n"
     ]
    },
    {
     "name": "stdout",
     "output_type": "stream",
     "text": [
      "\n",
      "      Epoch    GPU_mem   box_loss   seg_loss   cls_loss   dfl_loss  Instances       Size\n"
     ]
    },
    {
     "name": "stderr",
     "output_type": "stream",
     "text": [
      "     36/100      2.97G     0.8822      2.125     0.8703      1.368         15        640: 100%|██████████| 13/13 [00:03<00:00,  4.21it/s]\n",
      "                 Class     Images  Instances      Box(P          R      mAP50  mAP50-95)     Mask(P          R      mAP50  mAP50-95): 100%|██████████| 1/1 [00:00<00:00,  3.63it/s]"
     ]
    },
    {
     "name": "stdout",
     "output_type": "stream",
     "text": [
      "                   all         26         28      0.823      0.821      0.867       0.56       0.69      0.687       0.72      0.438\n"
     ]
    },
    {
     "name": "stderr",
     "output_type": "stream",
     "text": [
      "\n"
     ]
    },
    {
     "name": "stdout",
     "output_type": "stream",
     "text": [
      "\n",
      "      Epoch    GPU_mem   box_loss   seg_loss   cls_loss   dfl_loss  Instances       Size\n"
     ]
    },
    {
     "name": "stderr",
     "output_type": "stream",
     "text": [
      "     37/100      2.98G     0.8978      2.187     0.8534      1.378         12        640: 100%|██████████| 13/13 [00:03<00:00,  4.25it/s]\n",
      "                 Class     Images  Instances      Box(P          R      mAP50  mAP50-95)     Mask(P          R      mAP50  mAP50-95): 100%|██████████| 1/1 [00:00<00:00,  3.23it/s]"
     ]
    },
    {
     "name": "stdout",
     "output_type": "stream",
     "text": [
      "                   all         26         28      0.821      0.882      0.877      0.622      0.794      0.853      0.811      0.494\n"
     ]
    },
    {
     "name": "stderr",
     "output_type": "stream",
     "text": [
      "\n"
     ]
    },
    {
     "name": "stdout",
     "output_type": "stream",
     "text": [
      "\n",
      "      Epoch    GPU_mem   box_loss   seg_loss   cls_loss   dfl_loss  Instances       Size\n"
     ]
    },
    {
     "name": "stderr",
     "output_type": "stream",
     "text": [
      "     38/100      2.99G     0.8805      2.107     0.8498      1.373         14        640: 100%|██████████| 13/13 [00:03<00:00,  4.20it/s]\n",
      "                 Class     Images  Instances      Box(P          R      mAP50  mAP50-95)     Mask(P          R      mAP50  mAP50-95): 100%|██████████| 1/1 [00:00<00:00,  3.44it/s]"
     ]
    },
    {
     "name": "stdout",
     "output_type": "stream",
     "text": [
      "                   all         26         28      0.805      0.734      0.793      0.492      0.774      0.615      0.655      0.353\n"
     ]
    },
    {
     "name": "stderr",
     "output_type": "stream",
     "text": [
      "\n"
     ]
    },
    {
     "name": "stdout",
     "output_type": "stream",
     "text": [
      "\n",
      "      Epoch    GPU_mem   box_loss   seg_loss   cls_loss   dfl_loss  Instances       Size\n"
     ]
    },
    {
     "name": "stderr",
     "output_type": "stream",
     "text": [
      "     39/100      2.97G     0.8327      2.208     0.8529      1.341         15        640: 100%|██████████| 13/13 [00:03<00:00,  4.14it/s]\n",
      "                 Class     Images  Instances      Box(P          R      mAP50  mAP50-95)     Mask(P          R      mAP50  mAP50-95): 100%|██████████| 1/1 [00:00<00:00,  3.55it/s]"
     ]
    },
    {
     "name": "stdout",
     "output_type": "stream",
     "text": [
      "                   all         26         28      0.765      0.773       0.79      0.528      0.765      0.773      0.765      0.467\n"
     ]
    },
    {
     "name": "stderr",
     "output_type": "stream",
     "text": [
      "\n"
     ]
    },
    {
     "name": "stdout",
     "output_type": "stream",
     "text": [
      "\n",
      "      Epoch    GPU_mem   box_loss   seg_loss   cls_loss   dfl_loss  Instances       Size\n"
     ]
    },
    {
     "name": "stderr",
     "output_type": "stream",
     "text": [
      "     40/100      2.97G     0.8515      2.176     0.8694      1.368         14        640: 100%|██████████| 13/13 [00:03<00:00,  4.15it/s]\n",
      "                 Class     Images  Instances      Box(P          R      mAP50  mAP50-95)     Mask(P          R      mAP50  mAP50-95): 100%|██████████| 1/1 [00:00<00:00,  3.43it/s]"
     ]
    },
    {
     "name": "stdout",
     "output_type": "stream",
     "text": [
      "                   all         26         28      0.882      0.704      0.802      0.591      0.923       0.69      0.754      0.419\n"
     ]
    },
    {
     "name": "stderr",
     "output_type": "stream",
     "text": [
      "\n"
     ]
    },
    {
     "name": "stdout",
     "output_type": "stream",
     "text": [
      "\n",
      "      Epoch    GPU_mem   box_loss   seg_loss   cls_loss   dfl_loss  Instances       Size\n"
     ]
    },
    {
     "name": "stderr",
     "output_type": "stream",
     "text": [
      "     41/100         3G      0.858      2.063     0.8359      1.342         15        640: 100%|██████████| 13/13 [00:03<00:00,  4.25it/s]\n",
      "                 Class     Images  Instances      Box(P          R      mAP50  mAP50-95)     Mask(P          R      mAP50  mAP50-95): 100%|██████████| 1/1 [00:00<00:00,  3.29it/s]"
     ]
    },
    {
     "name": "stdout",
     "output_type": "stream",
     "text": [
      "                   all         26         28      0.925      0.807       0.85      0.544      0.845      0.749      0.754      0.398\n"
     ]
    },
    {
     "name": "stderr",
     "output_type": "stream",
     "text": [
      "\n"
     ]
    },
    {
     "name": "stdout",
     "output_type": "stream",
     "text": [
      "\n",
      "      Epoch    GPU_mem   box_loss   seg_loss   cls_loss   dfl_loss  Instances       Size\n"
     ]
    },
    {
     "name": "stderr",
     "output_type": "stream",
     "text": [
      "     42/100      2.99G       0.85      2.091     0.8177      1.349         13        640: 100%|██████████| 13/13 [00:03<00:00,  4.15it/s]\n",
      "                 Class     Images  Instances      Box(P          R      mAP50  mAP50-95)     Mask(P          R      mAP50  mAP50-95): 100%|██████████| 1/1 [00:00<00:00,  3.65it/s]"
     ]
    },
    {
     "name": "stdout",
     "output_type": "stream",
     "text": [
      "                   all         26         28      0.869      0.731      0.816      0.558      0.844      0.697       0.75      0.448\n"
     ]
    },
    {
     "name": "stderr",
     "output_type": "stream",
     "text": [
      "\n"
     ]
    },
    {
     "name": "stdout",
     "output_type": "stream",
     "text": [
      "\n",
      "      Epoch    GPU_mem   box_loss   seg_loss   cls_loss   dfl_loss  Instances       Size\n"
     ]
    },
    {
     "name": "stderr",
     "output_type": "stream",
     "text": [
      "     43/100      2.97G     0.8557      2.009     0.8244      1.353         14        640: 100%|██████████| 13/13 [00:03<00:00,  4.07it/s]\n",
      "                 Class     Images  Instances      Box(P          R      mAP50  mAP50-95)     Mask(P          R      mAP50  mAP50-95): 100%|██████████| 1/1 [00:00<00:00,  3.58it/s]"
     ]
    },
    {
     "name": "stdout",
     "output_type": "stream",
     "text": [
      "                   all         26         28      0.894      0.805      0.804      0.536       0.82      0.658       0.66      0.318\n"
     ]
    },
    {
     "name": "stderr",
     "output_type": "stream",
     "text": [
      "\n"
     ]
    },
    {
     "name": "stdout",
     "output_type": "stream",
     "text": [
      "\n",
      "      Epoch    GPU_mem   box_loss   seg_loss   cls_loss   dfl_loss  Instances       Size\n"
     ]
    },
    {
     "name": "stderr",
     "output_type": "stream",
     "text": [
      "     44/100      2.97G      0.863      2.087     0.7967      1.357         14        640: 100%|██████████| 13/13 [00:03<00:00,  4.04it/s]\n",
      "                 Class     Images  Instances      Box(P          R      mAP50  mAP50-95)     Mask(P          R      mAP50  mAP50-95): 100%|██████████| 1/1 [00:00<00:00,  3.52it/s]"
     ]
    },
    {
     "name": "stdout",
     "output_type": "stream",
     "text": [
      "                   all         26         28      0.808       0.85      0.803      0.557      0.775      0.703       0.65      0.427\n"
     ]
    },
    {
     "name": "stderr",
     "output_type": "stream",
     "text": [
      "\n"
     ]
    },
    {
     "name": "stdout",
     "output_type": "stream",
     "text": [
      "\n",
      "      Epoch    GPU_mem   box_loss   seg_loss   cls_loss   dfl_loss  Instances       Size\n"
     ]
    },
    {
     "name": "stderr",
     "output_type": "stream",
     "text": [
      "     45/100      2.96G     0.8266      1.936      0.771      1.325         11        640: 100%|██████████| 13/13 [00:03<00:00,  4.06it/s]\n",
      "                 Class     Images  Instances      Box(P          R      mAP50  mAP50-95)     Mask(P          R      mAP50  mAP50-95): 100%|██████████| 1/1 [00:00<00:00,  3.35it/s]"
     ]
    },
    {
     "name": "stdout",
     "output_type": "stream",
     "text": [
      "                   all         26         28      0.754      0.925      0.854      0.577      0.688      0.798      0.676      0.403\n"
     ]
    },
    {
     "name": "stderr",
     "output_type": "stream",
     "text": [
      "\n"
     ]
    },
    {
     "name": "stdout",
     "output_type": "stream",
     "text": [
      "\n",
      "      Epoch    GPU_mem   box_loss   seg_loss   cls_loss   dfl_loss  Instances       Size\n"
     ]
    },
    {
     "name": "stderr",
     "output_type": "stream",
     "text": [
      "     46/100      2.98G     0.8714      2.039     0.8562      1.356         17        640: 100%|██████████| 13/13 [00:03<00:00,  4.17it/s]\n",
      "                 Class     Images  Instances      Box(P          R      mAP50  mAP50-95)     Mask(P          R      mAP50  mAP50-95): 100%|██████████| 1/1 [00:00<00:00,  3.50it/s]"
     ]
    },
    {
     "name": "stdout",
     "output_type": "stream",
     "text": [
      "                   all         26         28       0.86      0.807      0.864      0.612      0.801      0.753      0.751      0.474\n"
     ]
    },
    {
     "name": "stderr",
     "output_type": "stream",
     "text": [
      "\n"
     ]
    },
    {
     "name": "stdout",
     "output_type": "stream",
     "text": [
      "\n",
      "      Epoch    GPU_mem   box_loss   seg_loss   cls_loss   dfl_loss  Instances       Size\n"
     ]
    },
    {
     "name": "stderr",
     "output_type": "stream",
     "text": [
      "     47/100      2.95G     0.8411      1.883     0.8022      1.345         11        640: 100%|██████████| 13/13 [00:03<00:00,  4.12it/s]\n",
      "                 Class     Images  Instances      Box(P          R      mAP50  mAP50-95)     Mask(P          R      mAP50  mAP50-95): 100%|██████████| 1/1 [00:00<00:00,  3.20it/s]"
     ]
    },
    {
     "name": "stdout",
     "output_type": "stream",
     "text": [
      "                   all         26         28      0.954      0.887      0.886      0.651      0.887       0.83      0.803       0.52\n"
     ]
    },
    {
     "name": "stderr",
     "output_type": "stream",
     "text": [
      "\n"
     ]
    },
    {
     "name": "stdout",
     "output_type": "stream",
     "text": [
      "\n",
      "      Epoch    GPU_mem   box_loss   seg_loss   cls_loss   dfl_loss  Instances       Size\n"
     ]
    },
    {
     "name": "stderr",
     "output_type": "stream",
     "text": [
      "     48/100      2.99G     0.8535      2.016     0.8134      1.315         16        640: 100%|██████████| 13/13 [00:03<00:00,  4.15it/s]\n",
      "                 Class     Images  Instances      Box(P          R      mAP50  mAP50-95)     Mask(P          R      mAP50  mAP50-95): 100%|██████████| 1/1 [00:00<00:00,  3.74it/s]"
     ]
    },
    {
     "name": "stdout",
     "output_type": "stream",
     "text": [
      "                   all         26         28      0.891      0.889      0.887      0.605      0.829      0.836      0.805      0.461\n"
     ]
    },
    {
     "name": "stderr",
     "output_type": "stream",
     "text": [
      "\n"
     ]
    },
    {
     "name": "stdout",
     "output_type": "stream",
     "text": [
      "\n",
      "      Epoch    GPU_mem   box_loss   seg_loss   cls_loss   dfl_loss  Instances       Size\n"
     ]
    },
    {
     "name": "stderr",
     "output_type": "stream",
     "text": [
      "     49/100      2.96G     0.8157      2.038     0.8088      1.332         18        640: 100%|██████████| 13/13 [00:03<00:00,  4.22it/s]\n",
      "                 Class     Images  Instances      Box(P          R      mAP50  mAP50-95)     Mask(P          R      mAP50  mAP50-95): 100%|██████████| 1/1 [00:00<00:00,  3.71it/s]"
     ]
    },
    {
     "name": "stdout",
     "output_type": "stream",
     "text": [
      "                   all         26         28      0.828      0.746       0.84      0.589       0.73      0.695      0.733      0.449\n"
     ]
    },
    {
     "name": "stderr",
     "output_type": "stream",
     "text": [
      "\n"
     ]
    },
    {
     "name": "stdout",
     "output_type": "stream",
     "text": [
      "\n",
      "      Epoch    GPU_mem   box_loss   seg_loss   cls_loss   dfl_loss  Instances       Size\n"
     ]
    },
    {
     "name": "stderr",
     "output_type": "stream",
     "text": [
      "     50/100      2.96G     0.7896       1.96     0.7421      1.312         14        640: 100%|██████████| 13/13 [00:03<00:00,  4.13it/s]\n",
      "                 Class     Images  Instances      Box(P          R      mAP50  mAP50-95)     Mask(P          R      mAP50  mAP50-95): 100%|██████████| 1/1 [00:00<00:00,  3.16it/s]"
     ]
    },
    {
     "name": "stdout",
     "output_type": "stream",
     "text": [
      "                   all         26         28      0.789      0.896      0.868      0.563      0.712      0.807      0.761      0.424\n"
     ]
    },
    {
     "name": "stderr",
     "output_type": "stream",
     "text": [
      "\n"
     ]
    },
    {
     "name": "stdout",
     "output_type": "stream",
     "text": [
      "\n",
      "      Epoch    GPU_mem   box_loss   seg_loss   cls_loss   dfl_loss  Instances       Size\n"
     ]
    },
    {
     "name": "stderr",
     "output_type": "stream",
     "text": [
      "     51/100      2.99G     0.7919      1.908      0.784      1.294         15        640: 100%|██████████| 13/13 [00:03<00:00,  4.15it/s]\n",
      "                 Class     Images  Instances      Box(P          R      mAP50  mAP50-95)     Mask(P          R      mAP50  mAP50-95): 100%|██████████| 1/1 [00:00<00:00,  3.64it/s]"
     ]
    },
    {
     "name": "stdout",
     "output_type": "stream",
     "text": [
      "                   all         26         28       0.76      0.866      0.831      0.565      0.678      0.778      0.715      0.378\n"
     ]
    },
    {
     "name": "stderr",
     "output_type": "stream",
     "text": [
      "\n"
     ]
    },
    {
     "name": "stdout",
     "output_type": "stream",
     "text": [
      "\n",
      "      Epoch    GPU_mem   box_loss   seg_loss   cls_loss   dfl_loss  Instances       Size\n"
     ]
    },
    {
     "name": "stderr",
     "output_type": "stream",
     "text": [
      "     52/100      2.97G     0.8025      1.908      0.745      1.327         14        640: 100%|██████████| 13/13 [00:03<00:00,  4.09it/s]\n",
      "                 Class     Images  Instances      Box(P          R      mAP50  mAP50-95)     Mask(P          R      mAP50  mAP50-95): 100%|██████████| 1/1 [00:00<00:00,  3.66it/s]"
     ]
    },
    {
     "name": "stdout",
     "output_type": "stream",
     "text": [
      "                   all         26         28      0.825      0.801      0.854      0.617      0.743      0.713      0.747      0.422\n"
     ]
    },
    {
     "name": "stderr",
     "output_type": "stream",
     "text": [
      "\n"
     ]
    },
    {
     "name": "stdout",
     "output_type": "stream",
     "text": [
      "\n",
      "      Epoch    GPU_mem   box_loss   seg_loss   cls_loss   dfl_loss  Instances       Size\n"
     ]
    },
    {
     "name": "stderr",
     "output_type": "stream",
     "text": [
      "     53/100      2.96G     0.7914      1.844     0.7289      1.319         13        640: 100%|██████████| 13/13 [00:03<00:00,  4.26it/s]\n",
      "                 Class     Images  Instances      Box(P          R      mAP50  mAP50-95)     Mask(P          R      mAP50  mAP50-95): 100%|██████████| 1/1 [00:00<00:00,  3.64it/s]"
     ]
    },
    {
     "name": "stdout",
     "output_type": "stream",
     "text": [
      "                   all         26         28      0.899      0.811      0.864      0.593       0.77      0.815      0.802      0.453\n"
     ]
    },
    {
     "name": "stderr",
     "output_type": "stream",
     "text": [
      "\n"
     ]
    },
    {
     "name": "stdout",
     "output_type": "stream",
     "text": [
      "\n",
      "      Epoch    GPU_mem   box_loss   seg_loss   cls_loss   dfl_loss  Instances       Size\n"
     ]
    },
    {
     "name": "stderr",
     "output_type": "stream",
     "text": [
      "     54/100      2.99G     0.7734      1.923     0.7172      1.308         16        640: 100%|██████████| 13/13 [00:03<00:00,  4.18it/s]\n",
      "                 Class     Images  Instances      Box(P          R      mAP50  mAP50-95)     Mask(P          R      mAP50  mAP50-95): 100%|██████████| 1/1 [00:00<00:00,  3.63it/s]"
     ]
    },
    {
     "name": "stdout",
     "output_type": "stream",
     "text": [
      "                   all         26         28      0.902      0.837      0.848      0.594      0.826      0.778      0.766      0.452\n"
     ]
    },
    {
     "name": "stderr",
     "output_type": "stream",
     "text": [
      "\n"
     ]
    },
    {
     "name": "stdout",
     "output_type": "stream",
     "text": [
      "\n",
      "      Epoch    GPU_mem   box_loss   seg_loss   cls_loss   dfl_loss  Instances       Size\n"
     ]
    },
    {
     "name": "stderr",
     "output_type": "stream",
     "text": [
      "     55/100      2.99G     0.8182      1.999     0.7619      1.313         15        640: 100%|██████████| 13/13 [00:03<00:00,  4.20it/s]\n",
      "                 Class     Images  Instances      Box(P          R      mAP50  mAP50-95)     Mask(P          R      mAP50  mAP50-95): 100%|██████████| 1/1 [00:00<00:00,  3.51it/s]"
     ]
    },
    {
     "name": "stdout",
     "output_type": "stream",
     "text": [
      "                   all         26         28      0.818      0.733       0.81      0.559      0.765      0.704      0.708      0.435\n"
     ]
    },
    {
     "name": "stderr",
     "output_type": "stream",
     "text": [
      "\n"
     ]
    },
    {
     "name": "stdout",
     "output_type": "stream",
     "text": [
      "\n",
      "      Epoch    GPU_mem   box_loss   seg_loss   cls_loss   dfl_loss  Instances       Size\n"
     ]
    },
    {
     "name": "stderr",
     "output_type": "stream",
     "text": [
      "     56/100      2.97G     0.8137      1.951     0.7319      1.303         19        640: 100%|██████████| 13/13 [00:03<00:00,  4.14it/s]\n",
      "                 Class     Images  Instances      Box(P          R      mAP50  mAP50-95)     Mask(P          R      mAP50  mAP50-95): 100%|██████████| 1/1 [00:00<00:00,  3.73it/s]"
     ]
    },
    {
     "name": "stdout",
     "output_type": "stream",
     "text": [
      "                   all         26         28      0.761      0.803      0.856      0.617      0.718      0.774      0.781      0.481\n"
     ]
    },
    {
     "name": "stderr",
     "output_type": "stream",
     "text": [
      "\n"
     ]
    },
    {
     "name": "stdout",
     "output_type": "stream",
     "text": [
      "\n",
      "      Epoch    GPU_mem   box_loss   seg_loss   cls_loss   dfl_loss  Instances       Size\n"
     ]
    },
    {
     "name": "stderr",
     "output_type": "stream",
     "text": [
      "     57/100      2.94G      0.746      1.844     0.6866      1.278         16        640: 100%|██████████| 13/13 [00:03<00:00,  4.15it/s]\n",
      "                 Class     Images  Instances      Box(P          R      mAP50  mAP50-95)     Mask(P          R      mAP50  mAP50-95): 100%|██████████| 1/1 [00:00<00:00,  3.73it/s]"
     ]
    },
    {
     "name": "stdout",
     "output_type": "stream",
     "text": [
      "                   all         26         28      0.867       0.76      0.823      0.621      0.819       0.73       0.74      0.493\n"
     ]
    },
    {
     "name": "stderr",
     "output_type": "stream",
     "text": [
      "\n"
     ]
    },
    {
     "name": "stdout",
     "output_type": "stream",
     "text": [
      "\n",
      "      Epoch    GPU_mem   box_loss   seg_loss   cls_loss   dfl_loss  Instances       Size\n"
     ]
    },
    {
     "name": "stderr",
     "output_type": "stream",
     "text": [
      "     58/100      2.99G     0.7619      1.867     0.7451      1.302         12        640: 100%|██████████| 13/13 [00:03<00:00,  4.23it/s]\n",
      "                 Class     Images  Instances      Box(P          R      mAP50  mAP50-95)     Mask(P          R      mAP50  mAP50-95): 100%|██████████| 1/1 [00:00<00:00,  3.73it/s]"
     ]
    },
    {
     "name": "stdout",
     "output_type": "stream",
     "text": [
      "                   all         26         28      0.953      0.891      0.883      0.655      0.884      0.833       0.81      0.522\n"
     ]
    },
    {
     "name": "stderr",
     "output_type": "stream",
     "text": [
      "\n"
     ]
    },
    {
     "name": "stdout",
     "output_type": "stream",
     "text": [
      "\n",
      "      Epoch    GPU_mem   box_loss   seg_loss   cls_loss   dfl_loss  Instances       Size\n"
     ]
    },
    {
     "name": "stderr",
     "output_type": "stream",
     "text": [
      "     59/100      2.97G     0.7234      1.771     0.6676       1.26         13        640: 100%|██████████| 13/13 [00:03<00:00,  4.09it/s]\n",
      "                 Class     Images  Instances      Box(P          R      mAP50  mAP50-95)     Mask(P          R      mAP50  mAP50-95): 100%|██████████| 1/1 [00:00<00:00,  3.71it/s]"
     ]
    },
    {
     "name": "stdout",
     "output_type": "stream",
     "text": [
      "                   all         26         28      0.798       0.85      0.879      0.627      0.751      0.791      0.786      0.455\n"
     ]
    },
    {
     "name": "stderr",
     "output_type": "stream",
     "text": [
      "\n"
     ]
    },
    {
     "name": "stdout",
     "output_type": "stream",
     "text": [
      "\n",
      "      Epoch    GPU_mem   box_loss   seg_loss   cls_loss   dfl_loss  Instances       Size\n"
     ]
    },
    {
     "name": "stderr",
     "output_type": "stream",
     "text": [
      "     60/100      2.99G     0.7269      1.767     0.6702      1.265         12        640: 100%|██████████| 13/13 [00:03<00:00,  4.07it/s]\n",
      "                 Class     Images  Instances      Box(P          R      mAP50  mAP50-95)     Mask(P          R      mAP50  mAP50-95): 100%|██████████| 1/1 [00:00<00:00,  3.63it/s]"
     ]
    },
    {
     "name": "stdout",
     "output_type": "stream",
     "text": [
      "                   all         26         28      0.862      0.878      0.893      0.632       0.85      0.821      0.818      0.455\n"
     ]
    },
    {
     "name": "stderr",
     "output_type": "stream",
     "text": [
      "\n"
     ]
    },
    {
     "name": "stdout",
     "output_type": "stream",
     "text": [
      "\n",
      "      Epoch    GPU_mem   box_loss   seg_loss   cls_loss   dfl_loss  Instances       Size\n"
     ]
    },
    {
     "name": "stderr",
     "output_type": "stream",
     "text": [
      "     61/100      2.96G     0.7097      1.775     0.6851      1.233         14        640: 100%|██████████| 13/13 [00:03<00:00,  4.18it/s]\n",
      "                 Class     Images  Instances      Box(P          R      mAP50  mAP50-95)     Mask(P          R      mAP50  mAP50-95): 100%|██████████| 1/1 [00:00<00:00,  3.44it/s]"
     ]
    },
    {
     "name": "stdout",
     "output_type": "stream",
     "text": [
      "                   all         26         28      0.952      0.865       0.91      0.618      0.896      0.805      0.817      0.488\n"
     ]
    },
    {
     "name": "stderr",
     "output_type": "stream",
     "text": [
      "\n"
     ]
    },
    {
     "name": "stdout",
     "output_type": "stream",
     "text": [
      "\n",
      "      Epoch    GPU_mem   box_loss   seg_loss   cls_loss   dfl_loss  Instances       Size\n"
     ]
    },
    {
     "name": "stderr",
     "output_type": "stream",
     "text": [
      "     62/100      2.99G      0.704      1.771     0.6681      1.227         10        640: 100%|██████████| 13/13 [00:03<00:00,  4.07it/s]\n",
      "                 Class     Images  Instances      Box(P          R      mAP50  mAP50-95)     Mask(P          R      mAP50  mAP50-95): 100%|██████████| 1/1 [00:00<00:00,  3.75it/s]"
     ]
    },
    {
     "name": "stdout",
     "output_type": "stream",
     "text": [
      "                   all         26         28      0.878      0.896      0.896      0.625      0.858       0.71      0.758      0.465\n"
     ]
    },
    {
     "name": "stderr",
     "output_type": "stream",
     "text": [
      "\n"
     ]
    },
    {
     "name": "stdout",
     "output_type": "stream",
     "text": [
      "\n",
      "      Epoch    GPU_mem   box_loss   seg_loss   cls_loss   dfl_loss  Instances       Size\n"
     ]
    },
    {
     "name": "stderr",
     "output_type": "stream",
     "text": [
      "     63/100      2.95G     0.7578      1.783     0.6738      1.283         13        640: 100%|██████████| 13/13 [00:03<00:00,  4.13it/s]\n",
      "                 Class     Images  Instances      Box(P          R      mAP50  mAP50-95)     Mask(P          R      mAP50  mAP50-95): 100%|██████████| 1/1 [00:00<00:00,  3.56it/s]"
     ]
    },
    {
     "name": "stdout",
     "output_type": "stream",
     "text": [
      "                   all         26         28       0.87      0.837      0.877      0.624      0.645      0.749      0.688      0.402\n"
     ]
    },
    {
     "name": "stderr",
     "output_type": "stream",
     "text": [
      "\n"
     ]
    },
    {
     "name": "stdout",
     "output_type": "stream",
     "text": [
      "\n",
      "      Epoch    GPU_mem   box_loss   seg_loss   cls_loss   dfl_loss  Instances       Size\n"
     ]
    },
    {
     "name": "stderr",
     "output_type": "stream",
     "text": [
      "     64/100      2.95G     0.7282      1.758     0.7078      1.249         15        640: 100%|██████████| 13/13 [00:03<00:00,  4.09it/s]\n",
      "                 Class     Images  Instances      Box(P          R      mAP50  mAP50-95)     Mask(P          R      mAP50  mAP50-95): 100%|██████████| 1/1 [00:00<00:00,  3.74it/s]"
     ]
    },
    {
     "name": "stdout",
     "output_type": "stream",
     "text": [
      "                   all         26         28      0.925      0.919      0.912      0.629      0.866      0.861      0.831      0.491\n"
     ]
    },
    {
     "name": "stderr",
     "output_type": "stream",
     "text": [
      "\n"
     ]
    },
    {
     "name": "stdout",
     "output_type": "stream",
     "text": [
      "\n",
      "      Epoch    GPU_mem   box_loss   seg_loss   cls_loss   dfl_loss  Instances       Size\n"
     ]
    },
    {
     "name": "stderr",
     "output_type": "stream",
     "text": [
      "     65/100      2.96G     0.7311       1.66     0.6815       1.28         14        640: 100%|██████████| 13/13 [00:03<00:00,  4.08it/s]\n",
      "                 Class     Images  Instances      Box(P          R      mAP50  mAP50-95)     Mask(P          R      mAP50  mAP50-95): 100%|██████████| 1/1 [00:00<00:00,  3.73it/s]"
     ]
    },
    {
     "name": "stdout",
     "output_type": "stream",
     "text": [
      "                   all         26         28       0.92      0.896      0.938      0.649       0.82      0.807      0.786      0.426\n"
     ]
    },
    {
     "name": "stderr",
     "output_type": "stream",
     "text": [
      "\n"
     ]
    },
    {
     "name": "stdout",
     "output_type": "stream",
     "text": [
      "\n",
      "      Epoch    GPU_mem   box_loss   seg_loss   cls_loss   dfl_loss  Instances       Size\n"
     ]
    },
    {
     "name": "stderr",
     "output_type": "stream",
     "text": [
      "     66/100      2.99G     0.7556      1.832     0.6764      1.286         11        640: 100%|██████████| 13/13 [00:03<00:00,  4.23it/s]\n",
      "                 Class     Images  Instances      Box(P          R      mAP50  mAP50-95)     Mask(P          R      mAP50  mAP50-95): 100%|██████████| 1/1 [00:00<00:00,  3.51it/s]"
     ]
    },
    {
     "name": "stdout",
     "output_type": "stream",
     "text": [
      "                   all         26         28      0.766      0.925      0.937      0.623      0.806      0.764      0.826      0.501\n"
     ]
    },
    {
     "name": "stderr",
     "output_type": "stream",
     "text": [
      "\n"
     ]
    },
    {
     "name": "stdout",
     "output_type": "stream",
     "text": [
      "\n",
      "      Epoch    GPU_mem   box_loss   seg_loss   cls_loss   dfl_loss  Instances       Size\n"
     ]
    },
    {
     "name": "stderr",
     "output_type": "stream",
     "text": [
      "     67/100      2.97G     0.7128      1.715     0.6978      1.236         14        640: 100%|██████████| 13/13 [00:03<00:00,  4.14it/s]\n",
      "                 Class     Images  Instances      Box(P          R      mAP50  mAP50-95)     Mask(P          R      mAP50  mAP50-95): 100%|██████████| 1/1 [00:00<00:00,  3.75it/s]"
     ]
    },
    {
     "name": "stdout",
     "output_type": "stream",
     "text": [
      "                   all         26         28      0.724       0.93      0.906      0.597       0.81      0.752      0.807      0.497\n"
     ]
    },
    {
     "name": "stderr",
     "output_type": "stream",
     "text": [
      "\n"
     ]
    },
    {
     "name": "stdout",
     "output_type": "stream",
     "text": [
      "\n",
      "      Epoch    GPU_mem   box_loss   seg_loss   cls_loss   dfl_loss  Instances       Size\n"
     ]
    },
    {
     "name": "stderr",
     "output_type": "stream",
     "text": [
      "     68/100      2.99G     0.6993      1.753      0.658      1.225         16        640: 100%|██████████| 13/13 [00:03<00:00,  4.01it/s]\n",
      "                 Class     Images  Instances      Box(P          R      mAP50  mAP50-95)     Mask(P          R      mAP50  mAP50-95): 100%|██████████| 1/1 [00:00<00:00,  3.59it/s]"
     ]
    },
    {
     "name": "stdout",
     "output_type": "stream",
     "text": [
      "                   all         26         28      0.789      0.867       0.89      0.597      0.758      0.837      0.822      0.501\n"
     ]
    },
    {
     "name": "stderr",
     "output_type": "stream",
     "text": [
      "\n"
     ]
    },
    {
     "name": "stdout",
     "output_type": "stream",
     "text": [
      "\n",
      "      Epoch    GPU_mem   box_loss   seg_loss   cls_loss   dfl_loss  Instances       Size\n"
     ]
    },
    {
     "name": "stderr",
     "output_type": "stream",
     "text": [
      "     69/100      2.96G     0.7406      1.834     0.6567      1.271         14        640: 100%|██████████| 13/13 [00:03<00:00,  4.04it/s]\n",
      "                 Class     Images  Instances      Box(P          R      mAP50  mAP50-95)     Mask(P          R      mAP50  mAP50-95): 100%|██████████| 1/1 [00:00<00:00,  3.73it/s]"
     ]
    },
    {
     "name": "stdout",
     "output_type": "stream",
     "text": [
      "                   all         26         28      0.873      0.955      0.909      0.616      0.842      0.844      0.801      0.523\n"
     ]
    },
    {
     "name": "stderr",
     "output_type": "stream",
     "text": [
      "\n"
     ]
    },
    {
     "name": "stdout",
     "output_type": "stream",
     "text": [
      "\n",
      "      Epoch    GPU_mem   box_loss   seg_loss   cls_loss   dfl_loss  Instances       Size\n"
     ]
    },
    {
     "name": "stderr",
     "output_type": "stream",
     "text": [
      "     70/100      2.98G     0.6826      1.733     0.6602      1.226         17        640: 100%|██████████| 13/13 [00:03<00:00,  4.18it/s]\n",
      "                 Class     Images  Instances      Box(P          R      mAP50  mAP50-95)     Mask(P          R      mAP50  mAP50-95): 100%|██████████| 1/1 [00:00<00:00,  3.47it/s]"
     ]
    },
    {
     "name": "stdout",
     "output_type": "stream",
     "text": [
      "                   all         26         28      0.717      0.948      0.933       0.63      0.916      0.621      0.813        0.5\n"
     ]
    },
    {
     "name": "stderr",
     "output_type": "stream",
     "text": [
      "\n"
     ]
    },
    {
     "name": "stdout",
     "output_type": "stream",
     "text": [
      "\n",
      "      Epoch    GPU_mem   box_loss   seg_loss   cls_loss   dfl_loss  Instances       Size\n"
     ]
    },
    {
     "name": "stderr",
     "output_type": "stream",
     "text": [
      "     71/100      2.97G     0.6973      1.673      0.663      1.211         17        640: 100%|██████████| 13/13 [00:03<00:00,  4.12it/s]\n",
      "                 Class     Images  Instances      Box(P          R      mAP50  mAP50-95)     Mask(P          R      mAP50  mAP50-95): 100%|██████████| 1/1 [00:00<00:00,  3.70it/s]"
     ]
    },
    {
     "name": "stdout",
     "output_type": "stream",
     "text": [
      "                   all         26         28       0.79      0.896      0.894      0.605      0.886      0.607      0.676      0.385\n"
     ]
    },
    {
     "name": "stderr",
     "output_type": "stream",
     "text": [
      "\n"
     ]
    },
    {
     "name": "stdout",
     "output_type": "stream",
     "text": [
      "\n",
      "      Epoch    GPU_mem   box_loss   seg_loss   cls_loss   dfl_loss  Instances       Size\n"
     ]
    },
    {
     "name": "stderr",
     "output_type": "stream",
     "text": [
      "     72/100      2.97G     0.6815      1.708      0.684      1.235         11        640: 100%|██████████| 13/13 [00:03<00:00,  4.08it/s]\n",
      "                 Class     Images  Instances      Box(P          R      mAP50  mAP50-95)     Mask(P          R      mAP50  mAP50-95): 100%|██████████| 1/1 [00:00<00:00,  3.64it/s]"
     ]
    },
    {
     "name": "stdout",
     "output_type": "stream",
     "text": [
      "                   all         26         28      0.914       0.85       0.91      0.647      0.841      0.803       0.78      0.499\n"
     ]
    },
    {
     "name": "stderr",
     "output_type": "stream",
     "text": [
      "\n"
     ]
    },
    {
     "name": "stdout",
     "output_type": "stream",
     "text": [
      "\n",
      "      Epoch    GPU_mem   box_loss   seg_loss   cls_loss   dfl_loss  Instances       Size\n"
     ]
    },
    {
     "name": "stderr",
     "output_type": "stream",
     "text": [
      "     73/100      2.96G      0.722      1.673     0.6595      1.272         11        640: 100%|██████████| 13/13 [00:03<00:00,  4.08it/s]\n",
      "                 Class     Images  Instances      Box(P          R      mAP50  mAP50-95)     Mask(P          R      mAP50  mAP50-95): 100%|██████████| 1/1 [00:00<00:00,  3.61it/s]"
     ]
    },
    {
     "name": "stdout",
     "output_type": "stream",
     "text": [
      "                   all         26         28      0.908      0.819      0.931      0.668      0.909      0.866      0.883      0.556\n"
     ]
    },
    {
     "name": "stderr",
     "output_type": "stream",
     "text": [
      "\n"
     ]
    },
    {
     "name": "stdout",
     "output_type": "stream",
     "text": [
      "\n",
      "      Epoch    GPU_mem   box_loss   seg_loss   cls_loss   dfl_loss  Instances       Size\n"
     ]
    },
    {
     "name": "stderr",
     "output_type": "stream",
     "text": [
      "     74/100      2.97G     0.7025      1.728     0.6598      1.236         12        640: 100%|██████████| 13/13 [00:03<00:00,  4.12it/s]\n",
      "                 Class     Images  Instances      Box(P          R      mAP50  mAP50-95)     Mask(P          R      mAP50  mAP50-95): 100%|██████████| 1/1 [00:00<00:00,  3.73it/s]"
     ]
    },
    {
     "name": "stdout",
     "output_type": "stream",
     "text": [
      "                   all         26         28      0.983      0.785      0.919      0.659      0.836      0.866       0.87      0.542\n"
     ]
    },
    {
     "name": "stderr",
     "output_type": "stream",
     "text": [
      "\n"
     ]
    },
    {
     "name": "stdout",
     "output_type": "stream",
     "text": [
      "\n",
      "      Epoch    GPU_mem   box_loss   seg_loss   cls_loss   dfl_loss  Instances       Size\n"
     ]
    },
    {
     "name": "stderr",
     "output_type": "stream",
     "text": [
      "     75/100      2.99G     0.6435      1.629     0.6012      1.191         16        640: 100%|██████████| 13/13 [00:03<00:00,  4.17it/s]\n",
      "                 Class     Images  Instances      Box(P          R      mAP50  mAP50-95)     Mask(P          R      mAP50  mAP50-95): 100%|██████████| 1/1 [00:00<00:00,  3.61it/s]"
     ]
    },
    {
     "name": "stdout",
     "output_type": "stream",
     "text": [
      "                   all         26         28      0.817      0.942      0.936      0.677       0.84      0.833      0.845      0.538\n"
     ]
    },
    {
     "name": "stderr",
     "output_type": "stream",
     "text": [
      "\n"
     ]
    },
    {
     "name": "stdout",
     "output_type": "stream",
     "text": [
      "\n",
      "      Epoch    GPU_mem   box_loss   seg_loss   cls_loss   dfl_loss  Instances       Size\n"
     ]
    },
    {
     "name": "stderr",
     "output_type": "stream",
     "text": [
      "     76/100      2.97G     0.6628      1.741     0.6227      1.209         11        640: 100%|██████████| 13/13 [00:03<00:00,  4.08it/s]\n",
      "                 Class     Images  Instances      Box(P          R      mAP50  mAP50-95)     Mask(P          R      mAP50  mAP50-95): 100%|██████████| 1/1 [00:00<00:00,  3.79it/s]"
     ]
    },
    {
     "name": "stdout",
     "output_type": "stream",
     "text": [
      "                   all         26         28      0.861      0.866      0.878      0.664       0.79      0.807      0.783      0.522\n"
     ]
    },
    {
     "name": "stderr",
     "output_type": "stream",
     "text": [
      "\n"
     ]
    },
    {
     "name": "stdout",
     "output_type": "stream",
     "text": [
      "\n",
      "      Epoch    GPU_mem   box_loss   seg_loss   cls_loss   dfl_loss  Instances       Size\n"
     ]
    },
    {
     "name": "stderr",
     "output_type": "stream",
     "text": [
      "     77/100      2.96G     0.6431      1.651     0.6262      1.194         13        640: 100%|██████████| 13/13 [00:03<00:00,  3.80it/s]\n",
      "                 Class     Images  Instances      Box(P          R      mAP50  mAP50-95)     Mask(P          R      mAP50  mAP50-95): 100%|██████████| 1/1 [00:00<00:00,  3.13it/s]"
     ]
    },
    {
     "name": "stdout",
     "output_type": "stream",
     "text": [
      "                   all         26         28      0.897      0.896      0.912      0.673      0.863      0.866      0.858      0.552\n"
     ]
    },
    {
     "name": "stderr",
     "output_type": "stream",
     "text": [
      "\n"
     ]
    },
    {
     "name": "stdout",
     "output_type": "stream",
     "text": [
      "\n",
      "      Epoch    GPU_mem   box_loss   seg_loss   cls_loss   dfl_loss  Instances       Size\n"
     ]
    },
    {
     "name": "stderr",
     "output_type": "stream",
     "text": [
      "     78/100      2.94G      0.661      1.637     0.6204      1.197         16        640: 100%|██████████| 13/13 [00:03<00:00,  3.89it/s]\n",
      "                 Class     Images  Instances      Box(P          R      mAP50  mAP50-95)     Mask(P          R      mAP50  mAP50-95): 100%|██████████| 1/1 [00:00<00:00,  3.44it/s]"
     ]
    },
    {
     "name": "stdout",
     "output_type": "stream",
     "text": [
      "                   all         26         28      0.849      0.866      0.903      0.672      0.815      0.837      0.857      0.566\n"
     ]
    },
    {
     "name": "stderr",
     "output_type": "stream",
     "text": [
      "\n"
     ]
    },
    {
     "name": "stdout",
     "output_type": "stream",
     "text": [
      "\n",
      "      Epoch    GPU_mem   box_loss   seg_loss   cls_loss   dfl_loss  Instances       Size\n"
     ]
    },
    {
     "name": "stderr",
     "output_type": "stream",
     "text": [
      "     79/100      2.99G     0.6419      1.743      0.621      1.222         16        640: 100%|██████████| 13/13 [00:03<00:00,  4.07it/s]\n",
      "                 Class     Images  Instances      Box(P          R      mAP50  mAP50-95)     Mask(P          R      mAP50  mAP50-95): 100%|██████████| 1/1 [00:00<00:00,  3.63it/s]"
     ]
    },
    {
     "name": "stdout",
     "output_type": "stream",
     "text": [
      "                   all         26         28      0.814      0.806      0.875      0.619      0.772      0.777      0.826      0.566\n"
     ]
    },
    {
     "name": "stderr",
     "output_type": "stream",
     "text": [
      "\n"
     ]
    },
    {
     "name": "stdout",
     "output_type": "stream",
     "text": [
      "\n",
      "      Epoch    GPU_mem   box_loss   seg_loss   cls_loss   dfl_loss  Instances       Size\n"
     ]
    },
    {
     "name": "stderr",
     "output_type": "stream",
     "text": [
      "     80/100      2.99G     0.6817      1.736     0.6338      1.221         14        640: 100%|██████████| 13/13 [00:03<00:00,  4.00it/s]\n",
      "                 Class     Images  Instances      Box(P          R      mAP50  mAP50-95)     Mask(P          R      mAP50  mAP50-95): 100%|██████████| 1/1 [00:00<00:00,  3.84it/s]"
     ]
    },
    {
     "name": "stdout",
     "output_type": "stream",
     "text": [
      "                   all         26         28       0.74       0.83      0.906      0.665      0.732      0.759       0.82      0.554\n"
     ]
    },
    {
     "name": "stderr",
     "output_type": "stream",
     "text": [
      "\n"
     ]
    },
    {
     "name": "stdout",
     "output_type": "stream",
     "text": [
      "\n",
      "      Epoch    GPU_mem   box_loss   seg_loss   cls_loss   dfl_loss  Instances       Size\n"
     ]
    },
    {
     "name": "stderr",
     "output_type": "stream",
     "text": [
      "     81/100      2.96G     0.6522      1.568     0.5793      1.187         14        640: 100%|██████████| 13/13 [00:03<00:00,  4.14it/s]\n",
      "                 Class     Images  Instances      Box(P          R      mAP50  mAP50-95)     Mask(P          R      mAP50  mAP50-95): 100%|██████████| 1/1 [00:00<00:00,  3.64it/s]"
     ]
    },
    {
     "name": "stdout",
     "output_type": "stream",
     "text": [
      "                   all         26         28      0.794      0.942      0.928      0.661      0.827      0.826       0.85      0.556\n"
     ]
    },
    {
     "name": "stderr",
     "output_type": "stream",
     "text": [
      "\n"
     ]
    },
    {
     "name": "stdout",
     "output_type": "stream",
     "text": [
      "\n",
      "      Epoch    GPU_mem   box_loss   seg_loss   cls_loss   dfl_loss  Instances       Size\n"
     ]
    },
    {
     "name": "stderr",
     "output_type": "stream",
     "text": [
      "     82/100      2.96G     0.6287      1.547       0.59       1.18         14        640: 100%|██████████| 13/13 [00:03<00:00,  4.16it/s]\n",
      "                 Class     Images  Instances      Box(P          R      mAP50  mAP50-95)     Mask(P          R      mAP50  mAP50-95): 100%|██████████| 1/1 [00:00<00:00,  3.54it/s]"
     ]
    },
    {
     "name": "stdout",
     "output_type": "stream",
     "text": [
      "                   all         26         28      0.939      0.866      0.908      0.656      0.875      0.804      0.828       0.56\n"
     ]
    },
    {
     "name": "stderr",
     "output_type": "stream",
     "text": [
      "\n"
     ]
    },
    {
     "name": "stdout",
     "output_type": "stream",
     "text": [
      "\n",
      "      Epoch    GPU_mem   box_loss   seg_loss   cls_loss   dfl_loss  Instances       Size\n"
     ]
    },
    {
     "name": "stderr",
     "output_type": "stream",
     "text": [
      "     83/100      2.97G     0.6584      1.594     0.5917      1.228         14        640: 100%|██████████| 13/13 [00:03<00:00,  4.12it/s]\n",
      "                 Class     Images  Instances      Box(P          R      mAP50  mAP50-95)     Mask(P          R      mAP50  mAP50-95): 100%|██████████| 1/1 [00:00<00:00,  3.73it/s]"
     ]
    },
    {
     "name": "stdout",
     "output_type": "stream",
     "text": [
      "                   all         26         28      0.899      0.857      0.916      0.637      0.834        0.8      0.821      0.536\n"
     ]
    },
    {
     "name": "stderr",
     "output_type": "stream",
     "text": [
      "\n"
     ]
    },
    {
     "name": "stdout",
     "output_type": "stream",
     "text": [
      "\n",
      "      Epoch    GPU_mem   box_loss   seg_loss   cls_loss   dfl_loss  Instances       Size\n"
     ]
    },
    {
     "name": "stderr",
     "output_type": "stream",
     "text": [
      "     84/100      2.99G     0.5922      1.534     0.5381      1.152         15        640: 100%|██████████| 13/13 [00:03<00:00,  3.99it/s]\n",
      "                 Class     Images  Instances      Box(P          R      mAP50  mAP50-95)     Mask(P          R      mAP50  mAP50-95): 100%|██████████| 1/1 [00:00<00:00,  3.35it/s]"
     ]
    },
    {
     "name": "stdout",
     "output_type": "stream",
     "text": [
      "                   all         26         28      0.904      0.846      0.908      0.628      0.852      0.812       0.82      0.487\n"
     ]
    },
    {
     "name": "stderr",
     "output_type": "stream",
     "text": [
      "\n"
     ]
    },
    {
     "name": "stdout",
     "output_type": "stream",
     "text": [
      "\n",
      "      Epoch    GPU_mem   box_loss   seg_loss   cls_loss   dfl_loss  Instances       Size\n"
     ]
    },
    {
     "name": "stderr",
     "output_type": "stream",
     "text": [
      "     85/100      2.97G     0.6239      1.463      0.569      1.178         12        640: 100%|██████████| 13/13 [00:03<00:00,  4.06it/s]\n",
      "                 Class     Images  Instances      Box(P          R      mAP50  mAP50-95)     Mask(P          R      mAP50  mAP50-95): 100%|██████████| 1/1 [00:00<00:00,  3.73it/s]"
     ]
    },
    {
     "name": "stdout",
     "output_type": "stream",
     "text": [
      "                   all         26         28      0.853      0.955      0.924      0.629      0.859      0.825       0.81      0.481\n"
     ]
    },
    {
     "name": "stderr",
     "output_type": "stream",
     "text": [
      "\n"
     ]
    },
    {
     "name": "stdout",
     "output_type": "stream",
     "text": [
      "\n",
      "      Epoch    GPU_mem   box_loss   seg_loss   cls_loss   dfl_loss  Instances       Size\n"
     ]
    },
    {
     "name": "stderr",
     "output_type": "stream",
     "text": [
      "     86/100      2.96G     0.6236       1.56     0.5989      1.184         16        640: 100%|██████████| 13/13 [00:03<00:00,  4.14it/s]\n",
      "                 Class     Images  Instances      Box(P          R      mAP50  mAP50-95)     Mask(P          R      mAP50  mAP50-95): 100%|██████████| 1/1 [00:00<00:00,  3.57it/s]"
     ]
    },
    {
     "name": "stdout",
     "output_type": "stream",
     "text": [
      "                   all         26         28      0.906      0.919      0.921      0.628      0.846      0.861      0.809      0.499\n"
     ]
    },
    {
     "name": "stderr",
     "output_type": "stream",
     "text": [
      "\n"
     ]
    },
    {
     "name": "stdout",
     "output_type": "stream",
     "text": [
      "\n",
      "      Epoch    GPU_mem   box_loss   seg_loss   cls_loss   dfl_loss  Instances       Size\n"
     ]
    },
    {
     "name": "stderr",
     "output_type": "stream",
     "text": [
      "     87/100      2.97G     0.6079       1.47     0.5486      1.163         14        640: 100%|██████████| 13/13 [00:03<00:00,  4.00it/s]\n",
      "                 Class     Images  Instances      Box(P          R      mAP50  mAP50-95)     Mask(P          R      mAP50  mAP50-95): 100%|██████████| 1/1 [00:00<00:00,  3.78it/s]"
     ]
    },
    {
     "name": "stdout",
     "output_type": "stream",
     "text": [
      "                   all         26         28      0.903      0.955      0.917      0.654      0.871      0.777      0.763      0.498\n"
     ]
    },
    {
     "name": "stderr",
     "output_type": "stream",
     "text": [
      "\n"
     ]
    },
    {
     "name": "stdout",
     "output_type": "stream",
     "text": [
      "\n",
      "      Epoch    GPU_mem   box_loss   seg_loss   cls_loss   dfl_loss  Instances       Size\n"
     ]
    },
    {
     "name": "stderr",
     "output_type": "stream",
     "text": [
      "     88/100      2.97G     0.5882      1.473     0.5379      1.141         16        640: 100%|██████████| 13/13 [00:03<00:00,  4.04it/s]\n",
      "                 Class     Images  Instances      Box(P          R      mAP50  mAP50-95)     Mask(P          R      mAP50  mAP50-95): 100%|██████████| 1/1 [00:00<00:00,  3.84it/s]"
     ]
    },
    {
     "name": "stdout",
     "output_type": "stream",
     "text": [
      "                   all         26         28      0.916      0.925      0.915      0.661      0.854      0.866       0.82      0.533\n"
     ]
    },
    {
     "name": "stderr",
     "output_type": "stream",
     "text": [
      "\n"
     ]
    },
    {
     "name": "stdout",
     "output_type": "stream",
     "text": [
      "\n",
      "      Epoch    GPU_mem   box_loss   seg_loss   cls_loss   dfl_loss  Instances       Size\n"
     ]
    },
    {
     "name": "stderr",
     "output_type": "stream",
     "text": [
      "     89/100      2.96G     0.5715      1.439     0.5169      1.127         14        640: 100%|██████████| 13/13 [00:03<00:00,  4.06it/s]\n",
      "                 Class     Images  Instances      Box(P          R      mAP50  mAP50-95)     Mask(P          R      mAP50  mAP50-95): 100%|██████████| 1/1 [00:00<00:00,  3.76it/s]"
     ]
    },
    {
     "name": "stdout",
     "output_type": "stream",
     "text": [
      "                   all         26         28      0.897      0.909      0.916      0.656       0.87      0.881      0.867      0.541\n"
     ]
    },
    {
     "name": "stderr",
     "output_type": "stream",
     "text": [
      "\n"
     ]
    },
    {
     "name": "stdout",
     "output_type": "stream",
     "text": [
      "\n",
      "      Epoch    GPU_mem   box_loss   seg_loss   cls_loss   dfl_loss  Instances       Size\n"
     ]
    },
    {
     "name": "stderr",
     "output_type": "stream",
     "text": [
      "     90/100      2.99G     0.5813      1.545     0.5832      1.145         13        640: 100%|██████████| 13/13 [00:03<00:00,  4.04it/s]\n",
      "                 Class     Images  Instances      Box(P          R      mAP50  mAP50-95)     Mask(P          R      mAP50  mAP50-95): 100%|██████████| 1/1 [00:00<00:00,  3.83it/s]"
     ]
    },
    {
     "name": "stdout",
     "output_type": "stream",
     "text": [
      "                   all         26         28      0.857      0.937      0.911      0.682      0.833      0.909      0.857      0.553\n"
     ]
    },
    {
     "name": "stderr",
     "output_type": "stream",
     "text": [
      "\n"
     ]
    },
    {
     "name": "stdout",
     "output_type": "stream",
     "text": [
      "Closing dataloader mosaic\n",
      "\n",
      "      Epoch    GPU_mem   box_loss   seg_loss   cls_loss   dfl_loss  Instances       Size\n"
     ]
    },
    {
     "name": "stderr",
     "output_type": "stream",
     "text": [
      "     91/100      3.09G     0.6288      1.445      1.016      1.335          5        640: 100%|██████████| 13/13 [00:03<00:00,  3.26it/s]\n",
      "                 Class     Images  Instances      Box(P          R      mAP50  mAP50-95)     Mask(P          R      mAP50  mAP50-95): 100%|██████████| 1/1 [00:00<00:00,  2.59it/s]\n"
     ]
    },
    {
     "name": "stdout",
     "output_type": "stream",
     "text": [
      "                   all         26         28      0.832       0.88      0.898      0.664      0.805       0.85      0.844      0.525\n",
      "\n",
      "      Epoch    GPU_mem   box_loss   seg_loss   cls_loss   dfl_loss  Instances       Size\n"
     ]
    },
    {
     "name": "stderr",
     "output_type": "stream",
     "text": [
      "     92/100      2.87G     0.4716      1.277     0.6361      1.227          5        640: 100%|██████████| 13/13 [00:03<00:00,  3.88it/s]\n",
      "                 Class     Images  Instances      Box(P          R      mAP50  mAP50-95)     Mask(P          R      mAP50  mAP50-95): 100%|██████████| 1/1 [00:00<00:00,  3.39it/s]"
     ]
    },
    {
     "name": "stdout",
     "output_type": "stream",
     "text": [
      "                   all         26         28      0.909      0.825      0.842      0.613      0.825      0.786       0.74      0.498\n"
     ]
    },
    {
     "name": "stderr",
     "output_type": "stream",
     "text": [
      "\n"
     ]
    },
    {
     "name": "stdout",
     "output_type": "stream",
     "text": [
      "\n",
      "      Epoch    GPU_mem   box_loss   seg_loss   cls_loss   dfl_loss  Instances       Size\n"
     ]
    },
    {
     "name": "stderr",
     "output_type": "stream",
     "text": [
      "     93/100      2.86G     0.4894      1.229     0.5841      1.244          4        640: 100%|██████████| 13/13 [00:03<00:00,  4.17it/s]\n",
      "                 Class     Images  Instances      Box(P          R      mAP50  mAP50-95)     Mask(P          R      mAP50  mAP50-95): 100%|██████████| 1/1 [00:00<00:00,  3.72it/s]"
     ]
    },
    {
     "name": "stdout",
     "output_type": "stream",
     "text": [
      "                   all         26         28      0.885      0.804      0.844      0.595      0.824      0.746      0.733      0.477\n"
     ]
    },
    {
     "name": "stderr",
     "output_type": "stream",
     "text": [
      "\n"
     ]
    },
    {
     "name": "stdout",
     "output_type": "stream",
     "text": [
      "\n",
      "      Epoch    GPU_mem   box_loss   seg_loss   cls_loss   dfl_loss  Instances       Size\n"
     ]
    },
    {
     "name": "stderr",
     "output_type": "stream",
     "text": [
      "     94/100      2.89G     0.4167      1.145     0.4493       1.14          4        640: 100%|██████████| 13/13 [00:03<00:00,  4.25it/s]\n",
      "                 Class     Images  Instances      Box(P          R      mAP50  mAP50-95)     Mask(P          R      mAP50  mAP50-95): 100%|██████████| 1/1 [00:00<00:00,  3.12it/s]"
     ]
    },
    {
     "name": "stdout",
     "output_type": "stream",
     "text": [
      "                   all         26         28      0.852      0.775      0.865      0.631      0.739      0.873        0.8      0.482\n"
     ]
    },
    {
     "name": "stderr",
     "output_type": "stream",
     "text": [
      "\n"
     ]
    },
    {
     "name": "stdout",
     "output_type": "stream",
     "text": [
      "\n",
      "      Epoch    GPU_mem   box_loss   seg_loss   cls_loss   dfl_loss  Instances       Size\n"
     ]
    },
    {
     "name": "stderr",
     "output_type": "stream",
     "text": [
      "     95/100      2.88G     0.4114      1.191     0.4688      1.106          4        640: 100%|██████████| 13/13 [00:03<00:00,  3.99it/s]\n",
      "                 Class     Images  Instances      Box(P          R      mAP50  mAP50-95)     Mask(P          R      mAP50  mAP50-95): 100%|██████████| 1/1 [00:00<00:00,  3.22it/s]"
     ]
    },
    {
     "name": "stdout",
     "output_type": "stream",
     "text": [
      "                   all         26         28      0.799      0.932      0.892       0.63      0.776      0.904      0.825      0.468\n"
     ]
    },
    {
     "name": "stderr",
     "output_type": "stream",
     "text": [
      "\n"
     ]
    },
    {
     "name": "stdout",
     "output_type": "stream",
     "text": [
      "\n",
      "      Epoch    GPU_mem   box_loss   seg_loss   cls_loss   dfl_loss  Instances       Size\n"
     ]
    },
    {
     "name": "stderr",
     "output_type": "stream",
     "text": [
      "     96/100      2.88G     0.4073      1.157     0.4572      1.146          4        640: 100%|██████████| 13/13 [00:03<00:00,  4.12it/s]\n",
      "                 Class     Images  Instances      Box(P          R      mAP50  mAP50-95)     Mask(P          R      mAP50  mAP50-95): 100%|██████████| 1/1 [00:00<00:00,  3.28it/s]"
     ]
    },
    {
     "name": "stdout",
     "output_type": "stream",
     "text": [
      "                   all         26         28      0.871      0.896      0.913      0.657      0.843      0.866      0.838      0.497\n"
     ]
    },
    {
     "name": "stderr",
     "output_type": "stream",
     "text": [
      "\n"
     ]
    },
    {
     "name": "stdout",
     "output_type": "stream",
     "text": [
      "\n",
      "      Epoch    GPU_mem   box_loss   seg_loss   cls_loss   dfl_loss  Instances       Size\n"
     ]
    },
    {
     "name": "stderr",
     "output_type": "stream",
     "text": [
      "     97/100      2.86G     0.3566        1.1     0.4302      1.118          4        640: 100%|██████████| 13/13 [00:03<00:00,  4.25it/s]\n",
      "                 Class     Images  Instances      Box(P          R      mAP50  mAP50-95)     Mask(P          R      mAP50  mAP50-95): 100%|██████████| 1/1 [00:00<00:00,  3.64it/s]"
     ]
    },
    {
     "name": "stdout",
     "output_type": "stream",
     "text": [
      "                   all         26         28      0.935      0.883      0.916      0.671      0.901      0.854      0.846      0.509\n"
     ]
    },
    {
     "name": "stderr",
     "output_type": "stream",
     "text": [
      "\n"
     ]
    },
    {
     "name": "stdout",
     "output_type": "stream",
     "text": [
      "\n",
      "      Epoch    GPU_mem   box_loss   seg_loss   cls_loss   dfl_loss  Instances       Size\n"
     ]
    },
    {
     "name": "stderr",
     "output_type": "stream",
     "text": [
      "     98/100      2.89G     0.4284      1.096     0.4072      1.148          4        640: 100%|██████████| 13/13 [00:03<00:00,  4.24it/s]\n",
      "                 Class     Images  Instances      Box(P          R      mAP50  mAP50-95)     Mask(P          R      mAP50  mAP50-95): 100%|██████████| 1/1 [00:00<00:00,  3.61it/s]"
     ]
    },
    {
     "name": "stdout",
     "output_type": "stream",
     "text": [
      "                   all         26         28      0.937      0.862      0.921      0.666      0.901      0.833       0.85       0.52\n"
     ]
    },
    {
     "name": "stderr",
     "output_type": "stream",
     "text": [
      "\n"
     ]
    },
    {
     "name": "stdout",
     "output_type": "stream",
     "text": [
      "\n",
      "      Epoch    GPU_mem   box_loss   seg_loss   cls_loss   dfl_loss  Instances       Size\n"
     ]
    },
    {
     "name": "stderr",
     "output_type": "stream",
     "text": [
      "     99/100      2.88G     0.3905      1.153     0.3948      1.124          4        640: 100%|██████████| 13/13 [00:03<00:00,  4.20it/s]\n",
      "                 Class     Images  Instances      Box(P          R      mAP50  mAP50-95)     Mask(P          R      mAP50  mAP50-95): 100%|██████████| 1/1 [00:00<00:00,  3.58it/s]"
     ]
    },
    {
     "name": "stdout",
     "output_type": "stream",
     "text": [
      "                   all         26         28      0.889      0.925      0.925      0.654      0.858      0.896      0.854      0.514\n"
     ]
    },
    {
     "name": "stderr",
     "output_type": "stream",
     "text": [
      "\n"
     ]
    },
    {
     "name": "stdout",
     "output_type": "stream",
     "text": [
      "\n",
      "      Epoch    GPU_mem   box_loss   seg_loss   cls_loss   dfl_loss  Instances       Size\n"
     ]
    },
    {
     "name": "stderr",
     "output_type": "stream",
     "text": [
      "    100/100      2.87G     0.3696      1.294     0.4059      1.115          6        640: 100%|██████████| 13/13 [00:03<00:00,  4.22it/s]\n",
      "                 Class     Images  Instances      Box(P          R      mAP50  mAP50-95)     Mask(P          R      mAP50  mAP50-95): 100%|██████████| 1/1 [00:00<00:00,  3.71it/s]"
     ]
    },
    {
     "name": "stdout",
     "output_type": "stream",
     "text": [
      "                   all         26         28      0.941      0.866      0.915      0.657      0.898      0.837      0.835      0.527\n"
     ]
    },
    {
     "name": "stderr",
     "output_type": "stream",
     "text": [
      "\n"
     ]
    },
    {
     "name": "stdout",
     "output_type": "stream",
     "text": [
      "\n",
      "100 epochs completed in 0.126 hours.\n",
      "Optimizer stripped from c:\\Users\\Raymond\\Desktop\\Machine Learning\\runs\\segment\\train\\weights\\last.pt, 6.0MB\n",
      "Optimizer stripped from c:\\Users\\Raymond\\Desktop\\Machine Learning\\runs\\segment\\train\\weights\\best.pt, 6.0MB\n",
      "\n",
      "Validating c:\\Users\\Raymond\\Desktop\\Machine Learning\\runs\\segment\\train\\weights\\best.pt...\n",
      "Ultralytics 8.3.39  Python-3.10.11 torch-2.5.1+cu124 CUDA:0 (NVIDIA GeForce RTX 3060 Laptop GPU, 6144MiB)\n",
      "YOLO11n-seg summary (fused): 265 layers, 2,834,958 parameters, 0 gradients, 10.2 GFLOPs\n"
     ]
    },
    {
     "name": "stderr",
     "output_type": "stream",
     "text": [
      "                 Class     Images  Instances      Box(P          R      mAP50  mAP50-95)     Mask(P          R      mAP50  mAP50-95): 100%|██████████| 1/1 [00:00<00:00,  3.43it/s]\n"
     ]
    },
    {
     "name": "stdout",
     "output_type": "stream",
     "text": [
      "                   all         26         28      0.849      0.866      0.903      0.672      0.815      0.837      0.857      0.566\n",
      "                   Cat         15         17      0.932      0.824      0.926      0.725      0.864      0.765      0.834      0.479\n",
      "                   Dog         11         11      0.767      0.909       0.88      0.618      0.766      0.909       0.88      0.654\n",
      "Speed: 0.3ms preprocess, 3.0ms inference, 0.0ms loss, 1.0ms postprocess per image\n",
      "Results saved to \u001b[1mc:\\Users\\Raymond\\Desktop\\Machine Learning\\runs\\segment\\train\u001b[0m\n"
     ]
    }
   ],
   "source": [
    "# Load model and train\n",
    "\n",
    "from ultralytics import YOLO\n",
    "\n",
    "model = YOLO(\"yolo11n-seg.pt\")  # load pretrained model\n",
    "results = model.train(data=\"C:/Users/Raymond/Desktop/Machine Learning/segmentationDS/data.yaml\", epochs=100) #train the fucking model"
   ]
  },
  {
   "cell_type": "code",
   "execution_count": 29,
   "metadata": {},
   "outputs": [
    {
     "name": "stdout",
     "output_type": "stream",
     "text": [
      "\n",
      "image 1/1 c:\\Users\\Raymond\\Desktop\\Machine Learning\\cat.png: 576x640 1 Cat, 41.0ms\n",
      "Speed: 5.0ms preprocess, 41.0ms inference, 12.2ms postprocess per image at shape (1, 3, 576, 640)\n",
      "Results saved to \u001b[1mc:\\Users\\Raymond\\Desktop\\Machine Learning\\runs\\segment\\predict\u001b[0m\n"
     ]
    }
   ],
   "source": [
    "# Import YOLO from ultralytics and cv2 for image processing\n",
    "from ultralytics import YOLO\n",
    "import cv2\n",
    "\n",
    "# Load the YOLO model with the specified weights\n",
    "model = YOLO(\"runs/segment/train/weights/best.pt\")  # Ensure the model path is correct\n",
    "\n",
    "# Perform inference on the image\n",
    "results = model.predict(\"cat.png\", conf=0.7, save=True)  # Use 'predict' for inference and pass the confidence threshold\n",
    "\n",
    "# Optional: Display results (if OpenCV is desired)\n",
    "img = cv2.imread(\"cat.png\")  # Load the input image\n",
    "for box in results[0].boxes:\n",
    "    x1, y1, x2, y2 = map(int, box.xyxy[0])  # Extract bounding box coordinates\n",
    "    conf = box.conf[0]  # Extract confidence score\n",
    "    cv2.rectangle(img, (x1, y1), (x2, y2), (0, 255, 0), 2)  # Draw rectangle\n",
    "    cv2.putText(img, f\"{conf:.2f}\", (x1, y1 - 10), cv2.FONT_HERSHEY_SIMPLEX, 0.5, (0, 255, 0), 1)\n",
    "\n",
    "cv2.imshow(\"Result\", img)\n",
    "cv2.waitKey(0)\n",
    "cv2.destroyAllWindows()\n"
   ]
  },
  {
   "cell_type": "code",
   "execution_count": 31,
   "metadata": {},
   "outputs": [
    {
     "name": "stdout",
     "output_type": "stream",
     "text": [
      "\n",
      "image 1/1 c:\\Users\\Raymond\\Desktop\\Machine Learning\\dog.png: 480x640 1 Dog, 35.5ms\n",
      "Speed: 4.0ms preprocess, 35.5ms inference, 8.0ms postprocess per image at shape (1, 3, 480, 640)\n",
      "Results saved to \u001b[1mc:\\Users\\Raymond\\Desktop\\Machine Learning\\runs\\segment\\predict2\u001b[0m\n"
     ]
    }
   ],
   "source": [
    "# Import YOLO from ultralytics and cv2 for image processing\n",
    "from ultralytics import YOLO\n",
    "import cv2\n",
    "\n",
    "# Load the YOLO model with the specified weights\n",
    "model = YOLO(\"runs/segment/train/weights/best.pt\")  # Ensure the model path is correct\n",
    "\n",
    "# Perform inference on the image\n",
    "results = model.predict(\"dog.png\", conf=0.7, save=True)  # Use 'predict' for inference and pass the confidence threshold\n",
    "\n",
    "# Optional: Display results (if OpenCV is desired)\n",
    "img = cv2.imread(\"cat.png\")  # Load the input image\n",
    "for box in results[0].boxes:\n",
    "    x1, y1, x2, y2 = map(int, box.xyxy[0])  # Extract bounding box coordinates\n",
    "    conf = box.conf[0]  # Extract confidence score\n",
    "    cv2.rectangle(img, (x1, y1), (x2, y2), (0, 255, 0), 2)  # Draw rectangle\n",
    "    cv2.putText(img, f\"{conf:.2f}\", (x1, y1 - 10), cv2.FONT_HERSHEY_SIMPLEX, 0.5, (0, 255, 0), 1)\n",
    "\n",
    "cv2.imshow(\"Result\", img)\n",
    "cv2.waitKey(0)\n",
    "cv2.destroyAllWindows()\n"
   ]
  }
 ],
 "metadata": {
  "kernelspec": {
   "display_name": "env",
   "language": "python",
   "name": "python3"
  },
  "language_info": {
   "codemirror_mode": {
    "name": "ipython",
    "version": 3
   },
   "file_extension": ".py",
   "mimetype": "text/x-python",
   "name": "python",
   "nbconvert_exporter": "python",
   "pygments_lexer": "ipython3",
   "version": "3.10.11"
  }
 },
 "nbformat": 4,
 "nbformat_minor": 2
}
